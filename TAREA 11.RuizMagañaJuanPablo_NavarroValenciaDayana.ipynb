{
 "cells": [
  {
   "cell_type": "markdown",
   "metadata": {},
   "source": [
    "<img style=\"float: left; margin: 30px 15px 15px 15px;\" src=\"https://pngimage.net/wp-content/uploads/2018/06/logo-iteso-png-5.png\" width=\"300\" height=\"500\" /> \n",
    "    \n",
    "    \n",
    "### <font color='navy'> Simulación de procesos financieros. \n",
    "\n",
    "**Nombres:** Dayana Navarro Valencia y Juan Pablo Ruiz Magaña\n",
    "\n",
    "**Fecha:** 7 de mayo del 2021\n",
    "\n",
    "**Expediente** : if721470\n",
    "**Profesor:** Oscar David Jaramillo Zuluaga.\n",
    "\n",
    "## Link de Github: https://github.com/DayanaNavarro/Tarea-11\n",
    "\n",
    "# Tarea 11: Clase 24"
   ]
  },
  {
   "cell_type": "markdown",
   "metadata": {},
   "source": [
    "# Tarea\n",
    "Realizar la valuación de las opciones barrera para las acciones de Microsoft, siguiendo los siguientes lineamientos:\n",
    "1. Realizar la valuación para el tipo de opción barrera 'CALL'- down-and-out, usando la suposición de rendimientos normales y usando el método del histograma. Para ambas valuaciones, comparar los resultados de la evaluación obtenida con los resultados obtenidos por la valuación Europea. Como se realizó en clase.\n",
    "2. Repetir el inciso anterior pero en esta ocasión para el caso de 'PUT'- Up-and-out.\n",
    "\n",
    "**Nota:** Analice los datos descargados y según el método ya sea `down-and-out` o `Up-and-out` defina un strike price usando la volatility smile vista en la clase de opciones europeas y basado en el spot price y el strike defina una barrera adecuada.\n",
    "\n",
    "Se habilitará un enlace en canvas para subir un cuaderno de python, con la solución.\n",
    "\n",
    "**Criterio de revisión.**\n",
    "\n",
    "> Se te calificará de acuerdo a los resultados finales que reportes, basados en tu análisis."
   ]
  },
  {
   "cell_type": "markdown",
   "metadata": {},
   "source": [
    "# RESPUESTA DAYANA"
   ]
  },
  {
   "cell_type": "code",
   "execution_count": 2,
   "metadata": {},
   "outputs": [],
   "source": [
    "#importar los paquetes que se van a usar\n",
    "import pandas as pd\n",
    "import pandas_datareader.data as web\n",
    "import numpy as np\n",
    "from sklearn.neighbors import KernelDensity\n",
    "import datetime\n",
    "from datetime import datetime, timedelta\n",
    "import scipy.stats as st\n",
    "import scipy as sp\n",
    "import scipy.optimize as optimize\n",
    "import scipy.cluster.hierarchy as hac\n",
    "import matplotlib.pyplot as plt\n",
    "import seaborn as sns\n",
    "%matplotlib inline\n"
   ]
  },
  {
   "cell_type": "markdown",
   "metadata": {},
   "source": [
    "# ACTIVO MC´DONALS"
   ]
  },
  {
   "cell_type": "code",
   "execution_count": 3,
   "metadata": {},
   "outputs": [],
   "source": [
    "# Función para descargar precios de cierre ajustados:\n",
    "def get_adj_closes(tickers, start_date=None, end_date=None):\n",
    "    # Fecha inicio por defecto (start_date='2010-01-01') y fecha fin por defecto (end_date=today)\n",
    "    # Descargamos DataFrame con todos los datos\n",
    "    closes = web.DataReader(name=tickers, data_source='yahoo', start=start_date, end=end_date)\n",
    "    # Solo necesitamos los precios ajustados en el cierre\n",
    "    closes = closes['Adj Close']\n",
    "    # Se ordenan los índices de manera ascendente\n",
    "    closes.sort_index(inplace=True)\n",
    "    return closes\n",
    "\n",
    "####### Calculation of log-returns\n",
    "def calc_daily_ret(closes):\n",
    "    return np.log(closes/closes.shift(1)).dropna()"
   ]
  },
  {
   "cell_type": "code",
   "execution_count": 4,
   "metadata": {},
   "outputs": [
    {
     "data": {
      "text/plain": [
       "Date\n",
       "2017-01-03    107.688629\n",
       "2017-01-04    107.562599\n",
       "2017-01-05    107.760643\n",
       "2017-01-06    108.714912\n",
       "2017-01-09    108.417847\n",
       "Name: MCD, dtype: float64"
      ]
     },
     "execution_count": 4,
     "metadata": {},
     "output_type": "execute_result"
    }
   ],
   "source": [
    "closes = get_adj_closes(['MCD'], '2017-01-01')\n",
    "closes_mc = closes.loc[:,'MCD']\n",
    "closes_mc.head()"
   ]
  },
  {
   "cell_type": "code",
   "execution_count": 5,
   "metadata": {},
   "outputs": [
    {
     "data": {
      "image/png": "[encoded data removed]",
      "text/plain": [
       "<Figure size 576x432 with 1 Axes>"
      ]
     },
     "metadata": {
      "needs_background": "light"
     },
     "output_type": "display_data"
    }
   ],
   "source": [
    "closes_mc.plot(figsize=(8,6));"
   ]
  },
  {
   "cell_type": "code",
   "execution_count": 6,
   "metadata": {},
   "outputs": [
    {
     "data": {
      "text/plain": [
       "235.0399932861328"
      ]
     },
     "execution_count": 6,
     "metadata": {},
     "output_type": "execute_result"
    }
   ],
   "source": [
    "closes_mc[-1]"
   ]
  },
  {
   "cell_type": "markdown",
   "metadata": {},
   "source": [
    "## Calculamos rendimientos"
   ]
  },
  {
   "cell_type": "code",
   "execution_count": 7,
   "metadata": {},
   "outputs": [],
   "source": [
    "ret_mc = calc_daily_ret(closes_mc)"
   ]
  },
  {
   "cell_type": "markdown",
   "metadata": {},
   "source": [
    "## Descargamos datos de opciones para poder valuarlos"
   ]
  },
  {
   "cell_type": "code",
   "execution_count": 8,
   "metadata": {
    "scrolled": true
   },
   "outputs": [
    {
     "data": {
      "text/html": [
       "<div>\n",
       "<style scoped>\n",
       "    .dataframe tbody tr th:only-of-type {\n",
       "        vertical-align: middle;\n",
       "    }\n",
       "\n",
       "    .dataframe tbody tr th {\n",
       "        vertical-align: top;\n",
       "    }\n",
       "\n",
       "    .dataframe thead th {\n",
       "        text-align: right;\n",
       "    }\n",
       "</style>\n",
       "<table border=\"1\" class=\"dataframe\">\n",
       "  <thead>\n",
       "    <tr style=\"text-align: right;\">\n",
       "      <th></th>\n",
       "      <th>Strike</th>\n",
       "      <th>Type</th>\n",
       "      <th>Symbol</th>\n",
       "      <th>Last</th>\n",
       "      <th>Bid</th>\n",
       "      <th>Ask</th>\n",
       "      <th>Chg</th>\n",
       "      <th>PctChg</th>\n",
       "      <th>Vol</th>\n",
       "      <th>Open_Int</th>\n",
       "      <th>IV</th>\n",
       "      <th>Root</th>\n",
       "      <th>IsNonstandard</th>\n",
       "      <th>Underlying</th>\n",
       "      <th>Underlying_Price</th>\n",
       "      <th>Quote_Time</th>\n",
       "      <th>Last_Trade_Date</th>\n",
       "      <th>JSON</th>\n",
       "    </tr>\n",
       "    <tr>\n",
       "      <th>Expiry</th>\n",
       "      <th></th>\n",
       "      <th></th>\n",
       "      <th></th>\n",
       "      <th></th>\n",
       "      <th></th>\n",
       "      <th></th>\n",
       "      <th></th>\n",
       "      <th></th>\n",
       "      <th></th>\n",
       "      <th></th>\n",
       "      <th></th>\n",
       "      <th></th>\n",
       "      <th></th>\n",
       "      <th></th>\n",
       "      <th></th>\n",
       "      <th></th>\n",
       "      <th></th>\n",
       "      <th></th>\n",
       "    </tr>\n",
       "  </thead>\n",
       "  <tbody>\n",
       "    <tr>\n",
       "      <th>2021-05-07</th>\n",
       "      <td>217.5</td>\n",
       "      <td>call</td>\n",
       "      <td>MCD210507C00217500</td>\n",
       "      <td>17.80</td>\n",
       "      <td>16.25</td>\n",
       "      <td>18.90</td>\n",
       "      <td>0.00</td>\n",
       "      <td>0.000000</td>\n",
       "      <td>5.0</td>\n",
       "      <td>8.0</td>\n",
       "      <td>0.834963</td>\n",
       "      <td>MCD</td>\n",
       "      <td>False</td>\n",
       "      <td>MCD</td>\n",
       "      <td>235.04</td>\n",
       "      <td>2021-05-05 20:00:02</td>\n",
       "      <td>2021-04-30 17:18:23</td>\n",
       "      <td>{'contractSymbol': 'MCD210507C00217500', 'stri...</td>\n",
       "    </tr>\n",
       "    <tr>\n",
       "      <th>2021-05-07</th>\n",
       "      <td>230.0</td>\n",
       "      <td>call</td>\n",
       "      <td>MCD210507C00230000</td>\n",
       "      <td>4.58</td>\n",
       "      <td>4.85</td>\n",
       "      <td>5.60</td>\n",
       "      <td>0.11</td>\n",
       "      <td>2.460853</td>\n",
       "      <td>50.0</td>\n",
       "      <td>445.0</td>\n",
       "      <td>0.265144</td>\n",
       "      <td>MCD</td>\n",
       "      <td>False</td>\n",
       "      <td>MCD</td>\n",
       "      <td>235.04</td>\n",
       "      <td>2021-05-05 20:00:02</td>\n",
       "      <td>2021-05-05 17:16:51</td>\n",
       "      <td>{'contractSymbol': 'MCD210507C00230000', 'stri...</td>\n",
       "    </tr>\n",
       "    <tr>\n",
       "      <th>2021-05-07</th>\n",
       "      <td>230.0</td>\n",
       "      <td>put</td>\n",
       "      <td>MCD210507P00230000</td>\n",
       "      <td>0.23</td>\n",
       "      <td>0.21</td>\n",
       "      <td>0.27</td>\n",
       "      <td>-0.25</td>\n",
       "      <td>-52.083332</td>\n",
       "      <td>278.0</td>\n",
       "      <td>921.0</td>\n",
       "      <td>0.207527</td>\n",
       "      <td>MCD</td>\n",
       "      <td>False</td>\n",
       "      <td>MCD</td>\n",
       "      <td>235.04</td>\n",
       "      <td>2021-05-05 20:00:02</td>\n",
       "      <td>2021-05-05 19:34:19</td>\n",
       "      <td>{'contractSymbol': 'MCD210507P00230000', 'stri...</td>\n",
       "    </tr>\n",
       "    <tr>\n",
       "      <th>2021-05-07</th>\n",
       "      <td>232.5</td>\n",
       "      <td>call</td>\n",
       "      <td>MCD210507C00232500</td>\n",
       "      <td>3.09</td>\n",
       "      <td>2.79</td>\n",
       "      <td>3.10</td>\n",
       "      <td>0.91</td>\n",
       "      <td>41.743110</td>\n",
       "      <td>476.0</td>\n",
       "      <td>555.0</td>\n",
       "      <td>0.177498</td>\n",
       "      <td>MCD</td>\n",
       "      <td>False</td>\n",
       "      <td>MCD</td>\n",
       "      <td>235.04</td>\n",
       "      <td>2021-05-05 20:00:02</td>\n",
       "      <td>2021-05-05 19:22:49</td>\n",
       "      <td>{'contractSymbol': 'MCD210507C00232500', 'stri...</td>\n",
       "    </tr>\n",
       "    <tr>\n",
       "      <th>2021-05-07</th>\n",
       "      <td>232.5</td>\n",
       "      <td>put</td>\n",
       "      <td>MCD210507P00232500</td>\n",
       "      <td>0.55</td>\n",
       "      <td>0.45</td>\n",
       "      <td>0.54</td>\n",
       "      <td>-0.43</td>\n",
       "      <td>-43.877552</td>\n",
       "      <td>280.0</td>\n",
       "      <td>394.0</td>\n",
       "      <td>0.174325</td>\n",
       "      <td>MCD</td>\n",
       "      <td>False</td>\n",
       "      <td>MCD</td>\n",
       "      <td>235.04</td>\n",
       "      <td>2021-05-05 20:00:02</td>\n",
       "      <td>2021-05-05 19:27:40</td>\n",
       "      <td>{'contractSymbol': 'MCD210507P00232500', 'stri...</td>\n",
       "    </tr>\n",
       "    <tr>\n",
       "      <th>...</th>\n",
       "      <td>...</td>\n",
       "      <td>...</td>\n",
       "      <td>...</td>\n",
       "      <td>...</td>\n",
       "      <td>...</td>\n",
       "      <td>...</td>\n",
       "      <td>...</td>\n",
       "      <td>...</td>\n",
       "      <td>...</td>\n",
       "      <td>...</td>\n",
       "      <td>...</td>\n",
       "      <td>...</td>\n",
       "      <td>...</td>\n",
       "      <td>...</td>\n",
       "      <td>...</td>\n",
       "      <td>...</td>\n",
       "      <td>...</td>\n",
       "      <td>...</td>\n",
       "    </tr>\n",
       "    <tr>\n",
       "      <th>2023-01-20</th>\n",
       "      <td>145.0</td>\n",
       "      <td>call</td>\n",
       "      <td>MCD230120C00145000</td>\n",
       "      <td>80.80</td>\n",
       "      <td>86.15</td>\n",
       "      <td>89.40</td>\n",
       "      <td>0.00</td>\n",
       "      <td>0.000000</td>\n",
       "      <td>1.0</td>\n",
       "      <td>4.0</td>\n",
       "      <td>0.000010</td>\n",
       "      <td>MCD</td>\n",
       "      <td>False</td>\n",
       "      <td>MCD</td>\n",
       "      <td>235.04</td>\n",
       "      <td>2021-05-05 20:00:02</td>\n",
       "      <td>2021-03-17 18:46:10</td>\n",
       "      <td>{'contractSymbol': 'MCD230120C00145000', 'stri...</td>\n",
       "    </tr>\n",
       "    <tr>\n",
       "      <th>2023-01-20</th>\n",
       "      <td>145.0</td>\n",
       "      <td>put</td>\n",
       "      <td>MCD230120P00145000</td>\n",
       "      <td>3.73</td>\n",
       "      <td>2.92</td>\n",
       "      <td>4.15</td>\n",
       "      <td>0.00</td>\n",
       "      <td>0.000000</td>\n",
       "      <td>4.0</td>\n",
       "      <td>133.0</td>\n",
       "      <td>0.308265</td>\n",
       "      <td>MCD</td>\n",
       "      <td>False</td>\n",
       "      <td>MCD</td>\n",
       "      <td>235.04</td>\n",
       "      <td>2021-05-05 20:00:02</td>\n",
       "      <td>2021-04-29 14:29:48</td>\n",
       "      <td>{'contractSymbol': 'MCD230120P00145000', 'stri...</td>\n",
       "    </tr>\n",
       "    <tr>\n",
       "      <th>2023-01-20</th>\n",
       "      <td>150.0</td>\n",
       "      <td>call</td>\n",
       "      <td>MCD230120C00150000</td>\n",
       "      <td>85.18</td>\n",
       "      <td>82.50</td>\n",
       "      <td>87.50</td>\n",
       "      <td>0.00</td>\n",
       "      <td>0.000000</td>\n",
       "      <td>1.0</td>\n",
       "      <td>41.0</td>\n",
       "      <td>0.251625</td>\n",
       "      <td>MCD</td>\n",
       "      <td>False</td>\n",
       "      <td>MCD</td>\n",
       "      <td>235.04</td>\n",
       "      <td>2021-05-05 20:00:02</td>\n",
       "      <td>2021-04-30 17:19:31</td>\n",
       "      <td>{'contractSymbol': 'MCD230120C00150000', 'stri...</td>\n",
       "    </tr>\n",
       "    <tr>\n",
       "      <th>2023-01-20</th>\n",
       "      <td>155.0</td>\n",
       "      <td>call</td>\n",
       "      <td>MCD230120C00155000</td>\n",
       "      <td>77.00</td>\n",
       "      <td>77.50</td>\n",
       "      <td>82.50</td>\n",
       "      <td>0.00</td>\n",
       "      <td>0.000000</td>\n",
       "      <td>2.0</td>\n",
       "      <td>11.0</td>\n",
       "      <td>0.236702</td>\n",
       "      <td>MCD</td>\n",
       "      <td>False</td>\n",
       "      <td>MCD</td>\n",
       "      <td>235.04</td>\n",
       "      <td>2021-05-05 20:00:02</td>\n",
       "      <td>2021-04-06 18:27:54</td>\n",
       "      <td>{'contractSymbol': 'MCD230120C00155000', 'stri...</td>\n",
       "    </tr>\n",
       "    <tr>\n",
       "      <th>2023-01-20</th>\n",
       "      <td>350.0</td>\n",
       "      <td>call</td>\n",
       "      <td>MCD230120C00350000</td>\n",
       "      <td>1.59</td>\n",
       "      <td>0.75</td>\n",
       "      <td>1.49</td>\n",
       "      <td>0.00</td>\n",
       "      <td>0.000000</td>\n",
       "      <td>NaN</td>\n",
       "      <td>7.0</td>\n",
       "      <td>0.185982</td>\n",
       "      <td>MCD</td>\n",
       "      <td>False</td>\n",
       "      <td>MCD</td>\n",
       "      <td>235.04</td>\n",
       "      <td>2021-05-05 20:00:02</td>\n",
       "      <td>2021-04-29 19:40:20</td>\n",
       "      <td>{'contractSymbol': 'MCD230120C00350000', 'stri...</td>\n",
       "    </tr>\n",
       "  </tbody>\n",
       "</table>\n",
       "<p>618 rows × 18 columns</p>\n",
       "</div>"
      ],
      "text/plain": [
       "            Strike  Type              Symbol   Last    Bid    Ask   Chg  \\\n",
       "Expiry                                                                    \n",
       "2021-05-07   217.5  call  MCD210507C00217500  17.80  16.25  18.90  0.00   \n",
       "2021-05-07   230.0  call  MCD210507C00230000   4.58   4.85   5.60  0.11   \n",
       "2021-05-07   230.0   put  MCD210507P00230000   0.23   0.21   0.27 -0.25   \n",
       "2021-05-07   232.5  call  MCD210507C00232500   3.09   2.79   3.10  0.91   \n",
       "2021-05-07   232.5   put  MCD210507P00232500   0.55   0.45   0.54 -0.43   \n",
       "...            ...   ...                 ...    ...    ...    ...   ...   \n",
       "2023-01-20   145.0  call  MCD230120C00145000  80.80  86.15  89.40  0.00   \n",
       "2023-01-20   145.0   put  MCD230120P00145000   3.73   2.92   4.15  0.00   \n",
       "2023-01-20   150.0  call  MCD230120C00150000  85.18  82.50  87.50  0.00   \n",
       "2023-01-20   155.0  call  MCD230120C00155000  77.00  77.50  82.50  0.00   \n",
       "2023-01-20   350.0  call  MCD230120C00350000   1.59   0.75   1.49  0.00   \n",
       "\n",
       "               PctChg    Vol  Open_Int        IV Root  IsNonstandard  \\\n",
       "Expiry                                                                 \n",
       "2021-05-07   0.000000    5.0       8.0  0.834963  MCD          False   \n",
       "2021-05-07   2.460853   50.0     445.0  0.265144  MCD          False   \n",
       "2021-05-07 -52.083332  278.0     921.0  0.207527  MCD          False   \n",
       "2021-05-07  41.743110  476.0     555.0  0.177498  MCD          False   \n",
       "2021-05-07 -43.877552  280.0     394.0  0.174325  MCD          False   \n",
       "...               ...    ...       ...       ...  ...            ...   \n",
       "2023-01-20   0.000000    1.0       4.0  0.000010  MCD          False   \n",
       "2023-01-20   0.000000    4.0     133.0  0.308265  MCD          False   \n",
       "2023-01-20   0.000000    1.0      41.0  0.251625  MCD          False   \n",
       "2023-01-20   0.000000    2.0      11.0  0.236702  MCD          False   \n",
       "2023-01-20   0.000000    NaN       7.0  0.185982  MCD          False   \n",
       "\n",
       "           Underlying  Underlying_Price          Quote_Time  \\\n",
       "Expiry                                                        \n",
       "2021-05-07        MCD            235.04 2021-05-05 20:00:02   \n",
       "2021-05-07        MCD            235.04 2021-05-05 20:00:02   \n",
       "2021-05-07        MCD            235.04 2021-05-05 20:00:02   \n",
       "2021-05-07        MCD            235.04 2021-05-05 20:00:02   \n",
       "2021-05-07        MCD            235.04 2021-05-05 20:00:02   \n",
       "...               ...               ...                 ...   \n",
       "2023-01-20        MCD            235.04 2021-05-05 20:00:02   \n",
       "2023-01-20        MCD            235.04 2021-05-05 20:00:02   \n",
       "2023-01-20        MCD            235.04 2021-05-05 20:00:02   \n",
       "2023-01-20        MCD            235.04 2021-05-05 20:00:02   \n",
       "2023-01-20        MCD            235.04 2021-05-05 20:00:02   \n",
       "\n",
       "               Last_Trade_Date  \\\n",
       "Expiry                           \n",
       "2021-05-07 2021-04-30 17:18:23   \n",
       "2021-05-07 2021-05-05 17:16:51   \n",
       "2021-05-07 2021-05-05 19:34:19   \n",
       "2021-05-07 2021-05-05 19:22:49   \n",
       "2021-05-07 2021-05-05 19:27:40   \n",
       "...                        ...   \n",
       "2023-01-20 2021-03-17 18:46:10   \n",
       "2023-01-20 2021-04-29 14:29:48   \n",
       "2023-01-20 2021-04-30 17:19:31   \n",
       "2023-01-20 2021-04-06 18:27:54   \n",
       "2023-01-20 2021-04-29 19:40:20   \n",
       "\n",
       "                                                         JSON  \n",
       "Expiry                                                         \n",
       "2021-05-07  {'contractSymbol': 'MCD210507C00217500', 'stri...  \n",
       "2021-05-07  {'contractSymbol': 'MCD210507C00230000', 'stri...  \n",
       "2021-05-07  {'contractSymbol': 'MCD210507P00230000', 'stri...  \n",
       "2021-05-07  {'contractSymbol': 'MCD210507C00232500', 'stri...  \n",
       "2021-05-07  {'contractSymbol': 'MCD210507P00232500', 'stri...  \n",
       "...                                                       ...  \n",
       "2023-01-20  {'contractSymbol': 'MCD230120C00145000', 'stri...  \n",
       "2023-01-20  {'contractSymbol': 'MCD230120P00145000', 'stri...  \n",
       "2023-01-20  {'contractSymbol': 'MCD230120C00150000', 'stri...  \n",
       "2023-01-20  {'contractSymbol': 'MCD230120C00155000', 'stri...  \n",
       "2023-01-20  {'contractSymbol': 'MCD230120C00350000', 'stri...  \n",
       "\n",
       "[618 rows x 18 columns]"
      ]
     },
     "execution_count": 8,
     "metadata": {},
     "output_type": "execute_result"
    }
   ],
   "source": [
    "pd.set_option('display.max_rows', 10)\n",
    "\n",
    "mc = web.YahooOptions('MCD')\n",
    "mc_opt = mc.get_all_data().reset_index()\n",
    "mc_opt.set_index('Expiry').sort_index()#.head(1000)"
   ]
  },
  {
   "cell_type": "markdown",
   "metadata": {},
   "source": [
    "## Volatility smile "
   ]
  },
  {
   "cell_type": "code",
   "execution_count": 44,
   "metadata": {},
   "outputs": [],
   "source": [
    "fecha = '2021-05-15'\n",
    "call_f1 = mc_opt.loc[(mc_opt.Expiry== fecha1) & (mc_opt.Type=='call')]\n"
   ]
  },
  {
   "cell_type": "code",
   "execution_count": 38,
   "metadata": {
    "scrolled": true
   },
   "outputs": [
    {
     "data": {
      "image/png": "[encoded data removed]",
      "text/plain": [
       "<Figure size 576x432 with 1 Axes>"
      ]
     },
     "metadata": {
      "needs_background": "light"
     },
     "output_type": "display_data"
    }
   ],
   "source": [
    "# Para los call de la fecha 1\n",
    "ax = call_f1.set_index('Strike').loc[:, 'IV'].plot(figsize=(8,6))\n",
    "ax.axvline(call_f1.Underlying_Price.iloc[0], color='g');"
   ]
  },
  {
   "cell_type": "code",
   "execution_count": 46,
   "metadata": {},
   "outputs": [
    {
     "data": {
      "text/html": [
       "<div>\n",
       "<style scoped>\n",
       "    .dataframe tbody tr th:only-of-type {\n",
       "        vertical-align: middle;\n",
       "    }\n",
       "\n",
       "    .dataframe tbody tr th {\n",
       "        vertical-align: top;\n",
       "    }\n",
       "\n",
       "    .dataframe thead th {\n",
       "        text-align: right;\n",
       "    }\n",
       "</style>\n",
       "<table border=\"1\" class=\"dataframe\">\n",
       "  <thead>\n",
       "    <tr style=\"text-align: right;\">\n",
       "      <th></th>\n",
       "      <th>Strike</th>\n",
       "      <th>Expiry</th>\n",
       "      <th>Type</th>\n",
       "      <th>Symbol</th>\n",
       "      <th>Last</th>\n",
       "      <th>Bid</th>\n",
       "      <th>Ask</th>\n",
       "      <th>Chg</th>\n",
       "      <th>PctChg</th>\n",
       "      <th>Vol</th>\n",
       "      <th>Open_Int</th>\n",
       "      <th>IV</th>\n",
       "      <th>Root</th>\n",
       "      <th>IsNonstandard</th>\n",
       "      <th>Underlying</th>\n",
       "      <th>Underlying_Price</th>\n",
       "      <th>Quote_Time</th>\n",
       "      <th>Last_Trade_Date</th>\n",
       "      <th>JSON</th>\n",
       "    </tr>\n",
       "  </thead>\n",
       "  <tbody>\n",
       "    <tr>\n",
       "      <th>369</th>\n",
       "      <td>230.0</td>\n",
       "      <td>2021-05-07</td>\n",
       "      <td>call</td>\n",
       "      <td>MCD210507C00230000</td>\n",
       "      <td>4.58</td>\n",
       "      <td>4.85</td>\n",
       "      <td>5.6</td>\n",
       "      <td>0.11</td>\n",
       "      <td>2.460853</td>\n",
       "      <td>50.0</td>\n",
       "      <td>445.0</td>\n",
       "      <td>0.265144</td>\n",
       "      <td>MCD</td>\n",
       "      <td>False</td>\n",
       "      <td>MCD</td>\n",
       "      <td>235.04</td>\n",
       "      <td>2021-05-05 20:00:02</td>\n",
       "      <td>2021-05-05 17:16:51</td>\n",
       "      <td>{'contractSymbol': 'MCD210507C00230000', 'stri...</td>\n",
       "    </tr>\n",
       "  </tbody>\n",
       "</table>\n",
       "</div>"
      ],
      "text/plain": [
       "     Strike     Expiry  Type              Symbol  Last   Bid  Ask   Chg  \\\n",
       "369   230.0 2021-05-07  call  MCD210507C00230000  4.58  4.85  5.6  0.11   \n",
       "\n",
       "       PctChg   Vol  Open_Int        IV Root  IsNonstandard Underlying  \\\n",
       "369  2.460853  50.0     445.0  0.265144  MCD          False        MCD   \n",
       "\n",
       "     Underlying_Price          Quote_Time     Last_Trade_Date  \\\n",
       "369            235.04 2021-05-05 20:00:02 2021-05-05 17:16:51   \n",
       "\n",
       "                                                  JSON  \n",
       "369  {'contractSymbol': 'MCD210507C00230000', 'stri...  "
      ]
     },
     "execution_count": 46,
     "metadata": {},
     "output_type": "execute_result"
    }
   ],
   "source": [
    "opt_deseada = mc_opt.loc[(mc_opt.Type=='call') & (mc_opt.Strike==230) & (mc_opt.Expiry=='2021-05-07')]\n",
    "opt_deseada"
   ]
  },
  {
   "cell_type": "code",
   "execution_count": 47,
   "metadata": {},
   "outputs": [
    {
     "data": {
      "text/plain": [
       "Strike                                                            230\n",
       "Expiry                                            2021-05-07 00:00:00\n",
       "Type                                                             call\n",
       "Symbol                                             MCD210507C00230000\n",
       "Last                                                             4.58\n",
       "                                          ...                        \n",
       "Underlying                                                        MCD\n",
       "Underlying_Price                                               235.04\n",
       "Quote_Time                                        2021-05-05 20:00:02\n",
       "Last_Trade_Date                                   2021-05-05 17:16:51\n",
       "JSON                {'contractSymbol': 'MCD210507C00230000', 'stri...\n",
       "Name: 369, Length: 19, dtype: object"
      ]
     },
     "execution_count": 47,
     "metadata": {},
     "output_type": "execute_result"
    }
   ],
   "source": [
    "opt_valuar = opt_deseada.loc[list(opt_deseada.index)[0]]\n",
    "opt_valuar"
   ]
  },
  {
   "cell_type": "markdown",
   "metadata": {},
   "source": [
    "# Simulación de precios"
   ]
  },
  {
   "cell_type": "markdown",
   "metadata": {},
   "source": [
    "### 1.1 Modelo normal de rendimientos"
   ]
  },
  {
   "cell_type": "code",
   "execution_count": 48,
   "metadata": {},
   "outputs": [
    {
     "data": {
      "text/plain": [
       "(0.0007154094263900964, 0.015203373533159606, 1.6666666666666665e-06)"
      ]
     },
     "execution_count": 48,
     "metadata": {},
     "output_type": "execute_result"
    }
   ],
   "source": [
    "mu = ret_mc.mean()\n",
    "sigma = ret_mc.std()\n",
    "r = (0.06/100) / 360\n",
    "mu, sigma, r"
   ]
  },
  {
   "cell_type": "code",
   "execution_count": 49,
   "metadata": {},
   "outputs": [],
   "source": [
    "from datetime import date\n",
    "\n",
    "# Datos de la opción y del día de actual\n",
    "today = pd.Timestamp(date.today())\n",
    "expiry = opt_valuar.Expiry\n",
    "\n",
    "# Fechas desde el día de hoy hasta la fecha de cierre del contrato (considerando unicamente los días hábiles)\n",
    "dates = pd.date_range(start=today, end=expiry, freq='B')\n",
    "\n",
    "# Cantidad de escenarios a simular para el método de montecarlo\n",
    "ndays = len(dates)\n",
    "nscen = 10000\n",
    "\n",
    "K = opt_valuar.Strike\n",
    "S0 = closes_mc.iloc[-1]\n",
    "sim_ret = pd.DataFrame(sigma*np.random.randn(ndays,nscen)+r,index=dates)\n",
    "sim_closes = S0*np.exp(sim_ret.cumsum())"
   ]
  },
  {
   "cell_type": "markdown",
   "metadata": {},
   "source": [
    "### Valuación de la opción baśandonos en la función de pago correspondiente (Europea)"
   ]
  },
  {
   "cell_type": "code",
   "execution_count": 50,
   "metadata": {},
   "outputs": [
    {
     "data": {
      "image/png": "[encoded data removed]",
      "text/plain": [
       "<Figure size 432x288 with 1 Axes>"
      ]
     },
     "metadata": {
      "needs_background": "light"
     },
     "output_type": "display_data"
    }
   ],
   "source": [
    "strike = K\n",
    "call=pd.DataFrame({'Prima':np.exp(-r*ndays)*np.fmax(sim_closes - strike, 0).mean(axis=1)}, index=dates)\n",
    "call.plot();"
   ]
  },
  {
   "cell_type": "code",
   "execution_count": 51,
   "metadata": {},
   "outputs": [
    {
     "data": {
      "text/plain": [
       "Prima    5.835541\n",
       "Name: 2021-05-07 00:00:00, dtype: float64"
      ]
     },
     "execution_count": 51,
     "metadata": {},
     "output_type": "execute_result"
    }
   ],
   "source": [
    "call.iloc[-1]"
   ]
  },
  {
   "cell_type": "markdown",
   "metadata": {},
   "source": [
    "### Intervarlos de confianza"
   ]
  },
  {
   "cell_type": "code",
   "execution_count": 52,
   "metadata": {},
   "outputs": [
    {
     "name": "stdout",
     "output_type": "stream",
     "text": [
      "(5.714381104075803, 5.956701529726632)\n"
     ]
    }
   ],
   "source": [
    "confianza = 0.95\n",
    "sigma_est = sim_closes.iloc[-1].sem()\n",
    "mean_est = call.iloc[-1].Prima\n",
    "# i1 = st.t.interval(confianza,nscen-1, loc=mean_est, scale=sigma_est)\n",
    "i2 = st.norm.interval(confianza, loc=mean_est, scale=sigma_est)\n",
    "print(i2)"
   ]
  },
  {
   "cell_type": "code",
   "execution_count": 53,
   "metadata": {},
   "outputs": [
    {
     "data": {
      "text/plain": [
       "{'contractSymbol': 'MCD210507C00230000',\n",
       " 'strike': 230.0,\n",
       " 'currency': 'USD',\n",
       " 'lastPrice': 4.58,\n",
       " 'change': 0.11000013,\n",
       " 'percentChange': 2.460853,\n",
       " 'volume': 50,\n",
       " 'openInterest': 445,\n",
       " 'bid': 4.85,\n",
       " 'ask': 5.6,\n",
       " 'contractSize': 'REGULAR',\n",
       " 'expiration': 1620345600,\n",
       " 'lastTradeDate': 1620235011,\n",
       " 'impliedVolatility': 0.2651440673828125,\n",
       " 'inTheMoney': True}"
      ]
     },
     "execution_count": 53,
     "metadata": {},
     "output_type": "execute_result"
    }
   ],
   "source": [
    "opt_valuar['JSON']"
   ]
  },
  {
   "cell_type": "markdown",
   "metadata": {},
   "source": [
    "### 1.2 Histograma de rendimientos"
   ]
  },
  {
   "cell_type": "code",
   "execution_count": 57,
   "metadata": {},
   "outputs": [],
   "source": [
    "# Centro mis datos en mi tasa libre de riesgo\n",
    "freq, values = np.histogram(ret_mc-mu+r, bins=10000)\n",
    "# freq = freq.astype('float32')\n",
    "prob = freq/np.sum(freq)\n"
   ]
  },
  {
   "cell_type": "code",
   "execution_count": 58,
   "metadata": {},
   "outputs": [],
   "source": [
    "# Datos de la opción y del día de actual\n",
    "today = pd.Timestamp(date.today())\n",
    "expiry = opt_valuar.Expiry\n",
    "\n",
    "# Fechas desde el día de hoy hasta la fecha de cierre del contrato (considerando unicamente los días hábiles)\n",
    "dates = pd.date_range(start=today, end=expiry, freq='B')\n",
    "\n",
    "# Cantidad de escenarios a simular para el método de montecarlo\n",
    "ndays = len(dates)\n",
    "nscen = 10000\n",
    "\n",
    "K = opt_valuar.Strike\n",
    "S0 = closes_mc.iloc[-1]\n",
    "\n",
    "ret = np.random.choice(values[1:], (ndays,nscen), p=prob)\n",
    "sim_ret_hist = pd.DataFrame(ret, index=dates)\n",
    "sim_closes_hist = S0*np.exp(sim_ret_hist.cumsum())"
   ]
  },
  {
   "cell_type": "code",
   "execution_count": 59,
   "metadata": {},
   "outputs": [
    {
     "data": {
      "image/png": "[encoded data removed]",
      "text/plain": [
       "<Figure size 432x288 with 1 Axes>"
      ]
     },
     "metadata": {
      "needs_background": "light"
     },
     "output_type": "display_data"
    }
   ],
   "source": [
    "strike = pd.DataFrame(K*np.ones([ndays,nscen]),index=dates)\n",
    "call_hist=pd.DataFrame({'Prima':np.exp(-r*ndays)*np.fmax(sim_closes_hist-strike,np.zeros([ndays,nscen])).T.mean()},index=dates)\n",
    "call_hist.plot();"
   ]
  },
  {
   "cell_type": "code",
   "execution_count": 60,
   "metadata": {},
   "outputs": [
    {
     "data": {
      "text/plain": [
       "Prima    5.757603\n",
       "Name: 2021-05-07 00:00:00, dtype: float64"
      ]
     },
     "execution_count": 60,
     "metadata": {},
     "output_type": "execute_result"
    }
   ],
   "source": [
    "call_hist.iloc[-1]"
   ]
  },
  {
   "cell_type": "markdown",
   "metadata": {},
   "source": [
    "### INTERVALO DE CONFIANZA DEL 95%"
   ]
  },
  {
   "cell_type": "code",
   "execution_count": 61,
   "metadata": {},
   "outputs": [
    {
     "name": "stdout",
     "output_type": "stream",
     "text": [
      "(5.634705479118243, 5.880499746676507)\n"
     ]
    }
   ],
   "source": [
    "confianza = 0.95\n",
    "sigma_est = sim_closes_hist.iloc[-1].sem()\n",
    "mean_est = call_hist.iloc[-1].Prima\n",
    "# i1 = st.t.interval(confianza,nscen-1, loc=mean_est, scale=sigma_est)\n",
    "i2 = st.norm.interval(confianza, loc=mean_est, scale=sigma_est)\n",
    "print(i2)"
   ]
  },
  {
   "cell_type": "markdown",
   "metadata": {},
   "source": [
    "Notemos que el valor real de la opción que estamos valuando se encuentra muy cerca del intervalo de confianza, por lo tanto los resultado obtenidos son muy confiables.\n",
    "El valor de la opción es:"
   ]
  },
  {
   "cell_type": "code",
   "execution_count": 62,
   "metadata": {},
   "outputs": [
    {
     "data": {
      "text/plain": [
       "4.58"
      ]
     },
     "execution_count": 62,
     "metadata": {},
     "output_type": "execute_result"
    }
   ],
   "source": [
    "opt_valuar['JSON']['lastPrice']"
   ]
  },
  {
   "cell_type": "markdown",
   "metadata": {},
   "source": [
    "# 'CALL'- down-and-out"
   ]
  },
  {
   "cell_type": "markdown",
   "metadata": {},
   "source": [
    "## VALUACIÓN DE UNA OPCION 'CALL'- down-and-out"
   ]
  },
  {
   "cell_type": "markdown",
   "metadata": {},
   "source": [
    "### 3.1 Modelo normal de rendimientos"
   ]
  },
  {
   "cell_type": "code",
   "execution_count": 64,
   "metadata": {},
   "outputs": [
    {
     "data": {
      "text/plain": [
       "(0.0007154094263900964, 0.015203373533159606, 1.6666666666666667e-05)"
      ]
     },
     "execution_count": 64,
     "metadata": {},
     "output_type": "execute_result"
    }
   ],
   "source": [
    "mu = ret_mc.mean()\n",
    "sigma = ret_mc.std()\n",
    "r = 0.006/360\n",
    "mu, sigma, r"
   ]
  },
  {
   "cell_type": "code",
   "execution_count": 65,
   "metadata": {},
   "outputs": [
    {
     "data": {
      "text/plain": [
       "235.0399932861328"
      ]
     },
     "execution_count": 65,
     "metadata": {},
     "output_type": "execute_result"
    }
   ],
   "source": [
    "# Datos de la opción y del día de actual\n",
    "today = pd.Timestamp(date.today())\n",
    "expiry = opt_valuar.Expiry\n",
    "\n",
    "# Fechas desde el día de hoy hasta la fecha de cierre del contrato (considerando unicamente los días hábiles)\n",
    "dates = pd.date_range(start = today, end = expiry, freq='B')\n",
    "\n",
    "# Cantidad de escenarios a simular para el método de montecarlo\n",
    "ndays = len(dates)\n",
    "nscen = 10000\n",
    "\n",
    "K = opt_valuar.Strike\n",
    "S0 = closes_mc.iloc[-1]\n",
    "\n",
    "sim_ret = pd.DataFrame(sigma*np.random.randn(ndays,nscen)+r,index=dates)\n",
    "sim_closes = S0*np.exp(sim_ret.cumsum())\n",
    "S0"
   ]
  },
  {
   "cell_type": "code",
   "execution_count": 66,
   "metadata": {},
   "outputs": [
    {
     "data": {
      "text/plain": [
       "235.04"
      ]
     },
     "execution_count": 66,
     "metadata": {},
     "output_type": "execute_result"
    }
   ],
   "source": [
    "opt_valuar.Underlying_Price"
   ]
  },
  {
   "cell_type": "code",
   "execution_count": 84,
   "metadata": {},
   "outputs": [
    {
     "data": {
      "text/html": [
       "<div>\n",
       "<style scoped>\n",
       "    .dataframe tbody tr th:only-of-type {\n",
       "        vertical-align: middle;\n",
       "    }\n",
       "\n",
       "    .dataframe tbody tr th {\n",
       "        vertical-align: top;\n",
       "    }\n",
       "\n",
       "    .dataframe thead th {\n",
       "        text-align: right;\n",
       "    }\n",
       "</style>\n",
       "<table border=\"1\" class=\"dataframe\">\n",
       "  <thead>\n",
       "    <tr style=\"text-align: right;\">\n",
       "      <th></th>\n",
       "      <th>0</th>\n",
       "      <th>1</th>\n",
       "      <th>2</th>\n",
       "      <th>3</th>\n",
       "      <th>4</th>\n",
       "      <th>5</th>\n",
       "      <th>6</th>\n",
       "      <th>7</th>\n",
       "      <th>8</th>\n",
       "      <th>9</th>\n",
       "      <th>10</th>\n",
       "      <th>11</th>\n",
       "      <th>12</th>\n",
       "      <th>13</th>\n",
       "      <th>14</th>\n",
       "      <th>15</th>\n",
       "      <th>16</th>\n",
       "      <th>...</th>\n",
       "      <th>9983</th>\n",
       "      <th>9984</th>\n",
       "      <th>9985</th>\n",
       "      <th>9986</th>\n",
       "      <th>9987</th>\n",
       "      <th>9988</th>\n",
       "      <th>9989</th>\n",
       "      <th>9990</th>\n",
       "      <th>9991</th>\n",
       "      <th>9992</th>\n",
       "      <th>9993</th>\n",
       "      <th>9994</th>\n",
       "      <th>9995</th>\n",
       "      <th>9996</th>\n",
       "      <th>9997</th>\n",
       "      <th>9998</th>\n",
       "      <th>9999</th>\n",
       "    </tr>\n",
       "  </thead>\n",
       "  <tbody>\n",
       "    <tr>\n",
       "      <th>2021-05-05</th>\n",
       "      <td>True</td>\n",
       "      <td>True</td>\n",
       "      <td>True</td>\n",
       "      <td>True</td>\n",
       "      <td>True</td>\n",
       "      <td>False</td>\n",
       "      <td>True</td>\n",
       "      <td>True</td>\n",
       "      <td>True</td>\n",
       "      <td>False</td>\n",
       "      <td>True</td>\n",
       "      <td>True</td>\n",
       "      <td>True</td>\n",
       "      <td>True</td>\n",
       "      <td>True</td>\n",
       "      <td>True</td>\n",
       "      <td>True</td>\n",
       "      <td>...</td>\n",
       "      <td>True</td>\n",
       "      <td>True</td>\n",
       "      <td>True</td>\n",
       "      <td>True</td>\n",
       "      <td>True</td>\n",
       "      <td>False</td>\n",
       "      <td>True</td>\n",
       "      <td>True</td>\n",
       "      <td>True</td>\n",
       "      <td>True</td>\n",
       "      <td>True</td>\n",
       "      <td>False</td>\n",
       "      <td>True</td>\n",
       "      <td>True</td>\n",
       "      <td>True</td>\n",
       "      <td>True</td>\n",
       "      <td>True</td>\n",
       "    </tr>\n",
       "    <tr>\n",
       "      <th>2021-05-06</th>\n",
       "      <td>True</td>\n",
       "      <td>True</td>\n",
       "      <td>True</td>\n",
       "      <td>True</td>\n",
       "      <td>False</td>\n",
       "      <td>False</td>\n",
       "      <td>True</td>\n",
       "      <td>True</td>\n",
       "      <td>True</td>\n",
       "      <td>False</td>\n",
       "      <td>True</td>\n",
       "      <td>True</td>\n",
       "      <td>True</td>\n",
       "      <td>True</td>\n",
       "      <td>True</td>\n",
       "      <td>True</td>\n",
       "      <td>True</td>\n",
       "      <td>...</td>\n",
       "      <td>True</td>\n",
       "      <td>False</td>\n",
       "      <td>True</td>\n",
       "      <td>True</td>\n",
       "      <td>True</td>\n",
       "      <td>False</td>\n",
       "      <td>True</td>\n",
       "      <td>True</td>\n",
       "      <td>True</td>\n",
       "      <td>True</td>\n",
       "      <td>True</td>\n",
       "      <td>False</td>\n",
       "      <td>True</td>\n",
       "      <td>True</td>\n",
       "      <td>True</td>\n",
       "      <td>True</td>\n",
       "      <td>True</td>\n",
       "    </tr>\n",
       "    <tr>\n",
       "      <th>2021-05-07</th>\n",
       "      <td>True</td>\n",
       "      <td>True</td>\n",
       "      <td>True</td>\n",
       "      <td>True</td>\n",
       "      <td>False</td>\n",
       "      <td>False</td>\n",
       "      <td>True</td>\n",
       "      <td>True</td>\n",
       "      <td>True</td>\n",
       "      <td>False</td>\n",
       "      <td>True</td>\n",
       "      <td>True</td>\n",
       "      <td>True</td>\n",
       "      <td>True</td>\n",
       "      <td>True</td>\n",
       "      <td>True</td>\n",
       "      <td>True</td>\n",
       "      <td>...</td>\n",
       "      <td>True</td>\n",
       "      <td>False</td>\n",
       "      <td>True</td>\n",
       "      <td>True</td>\n",
       "      <td>True</td>\n",
       "      <td>False</td>\n",
       "      <td>True</td>\n",
       "      <td>True</td>\n",
       "      <td>True</td>\n",
       "      <td>True</td>\n",
       "      <td>True</td>\n",
       "      <td>False</td>\n",
       "      <td>True</td>\n",
       "      <td>True</td>\n",
       "      <td>True</td>\n",
       "      <td>True</td>\n",
       "      <td>False</td>\n",
       "    </tr>\n",
       "  </tbody>\n",
       "</table>\n",
       "<p>3 rows × 10000 columns</p>\n",
       "</div>"
      ],
      "text/plain": [
       "            0     1     2     3      4      5     6     7     8      9     \\\n",
       "2021-05-05  True  True  True  True   True  False  True  True  True  False   \n",
       "2021-05-06  True  True  True  True  False  False  True  True  True  False   \n",
       "2021-05-07  True  True  True  True  False  False  True  True  True  False   \n",
       "\n",
       "            10    11    12    13    14    15    16    ...  9983   9984  9985  \\\n",
       "2021-05-05  True  True  True  True  True  True  True  ...  True   True  True   \n",
       "2021-05-06  True  True  True  True  True  True  True  ...  True  False  True   \n",
       "2021-05-07  True  True  True  True  True  True  True  ...  True  False  True   \n",
       "\n",
       "            9986  9987   9988  9989  9990  9991  9992  9993   9994  9995  \\\n",
       "2021-05-05  True  True  False  True  True  True  True  True  False  True   \n",
       "2021-05-06  True  True  False  True  True  True  True  True  False  True   \n",
       "2021-05-07  True  True  False  True  True  True  True  True  False  True   \n",
       "\n",
       "            9996  9997  9998   9999  \n",
       "2021-05-05  True  True  True   True  \n",
       "2021-05-06  True  True  True   True  \n",
       "2021-05-07  True  True  True  False  \n",
       "\n",
       "[3 rows x 10000 columns]"
      ]
     },
     "execution_count": 84,
     "metadata": {},
     "output_type": "execute_result"
    }
   ],
   "source": [
    "pd.set_option('display.max_columns', 35)\n",
    "\n",
    "B= 230\n",
    "\n",
    "# Función de desactivación (knock-out)\n",
    "# Si en algún momento el precio toca la barrera la opción se desactiva\n",
    "I = (sim_closes > B).cumprod(axis=0)> 0\n",
    "I\n"
   ]
  },
  {
   "cell_type": "code",
   "execution_count": 85,
   "metadata": {},
   "outputs": [
    {
     "data": {
      "text/plain": [
       "(230.0, 235.04)"
      ]
     },
     "execution_count": 85,
     "metadata": {},
     "output_type": "execute_result"
    }
   ],
   "source": [
    "K = opt_valuar.Strike\n",
    "S0 = opt_valuar.Underlying_Price\n",
    "K, S0"
   ]
  },
  {
   "cell_type": "code",
   "execution_count": 86,
   "metadata": {},
   "outputs": [
    {
     "data": {
      "image/png": "[encoded data removed]",
      "text/plain": [
       "<Figure size 432x288 with 1 Axes>"
      ]
     },
     "metadata": {
      "needs_background": "light"
     },
     "output_type": "display_data"
    }
   ],
   "source": [
    "# Definir strike\n",
    "strike = K\n",
    "# Calcular la prima de una opción Europea\n",
    "call = pd.DataFrame({'Prima Europea':np.exp(-r*ndays)*np.fmax(sim_closes - strike, 0)\n",
    "                     .mean(axis=1)},index=dates)\n",
    "# Calcular la prima de una opción barrera\n",
    "callui = pd.DataFrame({'Prima down-and-out':np.exp(-r*ndays)*(I * np.fmax(sim_closes - strike, 0))\n",
    "                       .mean(axis=1)},index=dates)\n",
    "# Graficar el resultado de las dos primas previamente valuadas\n",
    "ax = callui.plot();\n",
    "call.plot(ax=ax);"
   ]
  },
  {
   "cell_type": "code",
   "execution_count": 87,
   "metadata": {},
   "outputs": [
    {
     "data": {
      "text/plain": [
       "Prima Europea    5.871478\n",
       "Name: 2021-05-07 00:00:00, dtype: float64"
      ]
     },
     "execution_count": 87,
     "metadata": {},
     "output_type": "execute_result"
    }
   ],
   "source": [
    "call.iloc[-1]"
   ]
  },
  {
   "cell_type": "code",
   "execution_count": 88,
   "metadata": {},
   "outputs": [
    {
     "data": {
      "text/plain": [
       "Prima down-and-out    5.688329\n",
       "Name: 2021-05-07 00:00:00, dtype: float64"
      ]
     },
     "execution_count": 88,
     "metadata": {},
     "output_type": "execute_result"
    }
   ],
   "source": [
    "callui.iloc[-1]"
   ]
  },
  {
   "cell_type": "markdown",
   "metadata": {},
   "source": [
    "#  'PUT'- Up-and-out"
   ]
  },
  {
   "cell_type": "markdown",
   "metadata": {},
   "source": [
    "## VALUACIÓN DE UNA OPCION 'PUT'- Up-and-out"
   ]
  },
  {
   "cell_type": "code",
   "execution_count": 147,
   "metadata": {},
   "outputs": [
    {
     "data": {
      "text/html": [
       "<div>\n",
       "<style scoped>\n",
       "    .dataframe tbody tr th:only-of-type {\n",
       "        vertical-align: middle;\n",
       "    }\n",
       "\n",
       "    .dataframe tbody tr th {\n",
       "        vertical-align: top;\n",
       "    }\n",
       "\n",
       "    .dataframe thead th {\n",
       "        text-align: right;\n",
       "    }\n",
       "</style>\n",
       "<table border=\"1\" class=\"dataframe\">\n",
       "  <thead>\n",
       "    <tr style=\"text-align: right;\">\n",
       "      <th></th>\n",
       "      <th>Strike</th>\n",
       "      <th>Expiry</th>\n",
       "      <th>Type</th>\n",
       "      <th>Symbol</th>\n",
       "      <th>Last</th>\n",
       "      <th>Bid</th>\n",
       "      <th>Ask</th>\n",
       "      <th>Chg</th>\n",
       "      <th>PctChg</th>\n",
       "      <th>Vol</th>\n",
       "      <th>Open_Int</th>\n",
       "      <th>IV</th>\n",
       "      <th>Root</th>\n",
       "      <th>IsNonstandard</th>\n",
       "      <th>Underlying</th>\n",
       "      <th>Underlying_Price</th>\n",
       "      <th>Quote_Time</th>\n",
       "      <th>Last_Trade_Date</th>\n",
       "      <th>JSON</th>\n",
       "    </tr>\n",
       "  </thead>\n",
       "  <tbody>\n",
       "    <tr>\n",
       "      <th>429</th>\n",
       "      <td>240.0</td>\n",
       "      <td>2021-05-07</td>\n",
       "      <td>put</td>\n",
       "      <td>MCD210507P00240000</td>\n",
       "      <td>8.0</td>\n",
       "      <td>4.6</td>\n",
       "      <td>6.35</td>\n",
       "      <td>1.75</td>\n",
       "      <td>28.0</td>\n",
       "      <td>1.0</td>\n",
       "      <td>23.0</td>\n",
       "      <td>0.383307</td>\n",
       "      <td>MCD</td>\n",
       "      <td>False</td>\n",
       "      <td>MCD</td>\n",
       "      <td>235.04</td>\n",
       "      <td>2021-05-05 20:00:02</td>\n",
       "      <td>2021-05-05 14:42:42</td>\n",
       "      <td>{'contractSymbol': 'MCD210507P00240000', 'stri...</td>\n",
       "    </tr>\n",
       "  </tbody>\n",
       "</table>\n",
       "</div>"
      ],
      "text/plain": [
       "     Strike     Expiry Type              Symbol  Last  Bid   Ask   Chg  \\\n",
       "429   240.0 2021-05-07  put  MCD210507P00240000   8.0  4.6  6.35  1.75   \n",
       "\n",
       "     PctChg  Vol  Open_Int        IV Root  IsNonstandard Underlying  \\\n",
       "429    28.0  1.0      23.0  0.383307  MCD          False        MCD   \n",
       "\n",
       "     Underlying_Price          Quote_Time     Last_Trade_Date  \\\n",
       "429            235.04 2021-05-05 20:00:02 2021-05-05 14:42:42   \n",
       "\n",
       "                                                  JSON  \n",
       "429  {'contractSymbol': 'MCD210507P00240000', 'stri...  "
      ]
     },
     "execution_count": 147,
     "metadata": {},
     "output_type": "execute_result"
    }
   ],
   "source": [
    "opt_deseada = mc_opt.loc[(mc_opt.Type=='put') & (mc_opt.Strike==240) & (mc_opt.Expiry=='2021-05-07')]\n",
    "opt_deseada"
   ]
  },
  {
   "cell_type": "code",
   "execution_count": 148,
   "metadata": {},
   "outputs": [
    {
     "data": {
      "text/plain": [
       "Strike                                                            240\n",
       "Expiry                                            2021-05-07 00:00:00\n",
       "Type                                                              put\n",
       "Symbol                                             MCD210507P00240000\n",
       "Last                                                                8\n",
       "                                          ...                        \n",
       "Underlying                                                        MCD\n",
       "Underlying_Price                                               235.04\n",
       "Quote_Time                                        2021-05-05 20:00:02\n",
       "Last_Trade_Date                                   2021-05-05 14:42:42\n",
       "JSON                {'contractSymbol': 'MCD210507P00240000', 'stri...\n",
       "Name: 429, Length: 19, dtype: object"
      ]
     },
     "execution_count": 148,
     "metadata": {},
     "output_type": "execute_result"
    }
   ],
   "source": [
    "opt_valuar = opt_deseada.loc[list(opt_deseada.index)[0]]\n",
    "opt_valuar"
   ]
  },
  {
   "cell_type": "markdown",
   "metadata": {},
   "source": [
    "# Simulación de precios"
   ]
  },
  {
   "cell_type": "markdown",
   "metadata": {},
   "source": [
    "### 1.1 Modelo normal de rendimientos"
   ]
  },
  {
   "cell_type": "code",
   "execution_count": 149,
   "metadata": {},
   "outputs": [
    {
     "data": {
      "text/plain": [
       "(0.0007154094263900964, 0.015203373533159606, 1.6666666666666665e-06)"
      ]
     },
     "execution_count": 149,
     "metadata": {},
     "output_type": "execute_result"
    }
   ],
   "source": [
    "mu = ret_mc.mean()\n",
    "sigma = ret_mc.std()\n",
    "r = (0.06/100) / 360\n",
    "mu, sigma, r"
   ]
  },
  {
   "cell_type": "code",
   "execution_count": 150,
   "metadata": {},
   "outputs": [],
   "source": [
    "from datetime import date\n",
    "\n",
    "# Datos de la opción y del día de actual\n",
    "today = pd.Timestamp(date.today())\n",
    "expiry = opt_valuar.Expiry\n",
    "\n",
    "# Fechas desde el día de hoy hasta la fecha de cierre del contrato (considerando unicamente los días hábiles)\n",
    "dates = pd.date_range(start=today, end=expiry, freq='B')\n",
    "\n",
    "# Cantidad de escenarios a simular para el método de montecarlo\n",
    "ndays = len(dates)\n",
    "nscen = 10000\n",
    "\n",
    "K = opt_valuar.Strike\n",
    "S0 = closes_mc.iloc[-1]\n",
    "sim_ret = pd.DataFrame(sigma*np.random.randn(ndays,nscen)+r,index=dates)\n",
    "sim_closes = S0*np.exp(sim_ret.cumsum())"
   ]
  },
  {
   "cell_type": "markdown",
   "metadata": {},
   "source": [
    "### Valuación de la opción baśandonos en la función de pago correspondiente (Europea)"
   ]
  },
  {
   "cell_type": "code",
   "execution_count": 151,
   "metadata": {},
   "outputs": [
    {
     "data": {
      "image/png": "[encoded data removed]",
      "text/plain": [
       "<Figure size 432x288 with 1 Axes>"
      ]
     },
     "metadata": {
      "needs_background": "light"
     },
     "output_type": "display_data"
    }
   ],
   "source": [
    "strike = K\n",
    "put=pd.DataFrame({'Prima':np.exp(-r*ndays)*np.fmax(strike - sim_closes, 0).mean(axis=1)}, index=dates)\n",
    "put.plot();"
   ]
  },
  {
   "cell_type": "code",
   "execution_count": 152,
   "metadata": {},
   "outputs": [
    {
     "data": {
      "text/plain": [
       "Prima    5.557368\n",
       "Name: 2021-05-07 00:00:00, dtype: float64"
      ]
     },
     "execution_count": 152,
     "metadata": {},
     "output_type": "execute_result"
    }
   ],
   "source": [
    "put.iloc[-1]"
   ]
  },
  {
   "cell_type": "markdown",
   "metadata": {},
   "source": [
    "### INTERVALO DE CONFIANZA DEL 95%"
   ]
  },
  {
   "cell_type": "code",
   "execution_count": 153,
   "metadata": {},
   "outputs": [
    {
     "name": "stdout",
     "output_type": "stream",
     "text": [
      "(5.43611620463181, 5.678620540401981)\n"
     ]
    }
   ],
   "source": [
    "confianza = 0.95\n",
    "sigma_est = sim_closes.iloc[-1].sem()\n",
    "mean_est = put.iloc[-1].Prima\n",
    "# i1 = st.t.interval(confianza,nscen-1, loc=mean_est, scale=sigma_est)\n",
    "i2 = st.norm.interval(confianza, loc=mean_est, scale=sigma_est)\n",
    "print(i2)"
   ]
  },
  {
   "cell_type": "markdown",
   "metadata": {},
   "source": [
    "Notemos que el valor real de la opción que estamos valuando se encuentra muy cerca del intervalo de confianza, por lo tanto los resultado obtenidos son muy confiables.\n",
    "El valor de la opción es:"
   ]
  },
  {
   "cell_type": "code",
   "execution_count": 154,
   "metadata": {},
   "outputs": [
    {
     "data": {
      "text/plain": [
       "8.0"
      ]
     },
     "execution_count": 154,
     "metadata": {},
     "output_type": "execute_result"
    }
   ],
   "source": [
    "opt_valuar['JSON']['lastPrice']"
   ]
  },
  {
   "cell_type": "markdown",
   "metadata": {},
   "source": [
    "### 1.2 Histograma de rendimientos"
   ]
  },
  {
   "cell_type": "code",
   "execution_count": 155,
   "metadata": {},
   "outputs": [],
   "source": [
    "# Centro mis datos en mi tasa libre de riesgo\n",
    "freq, values = np.histogram(ret_mc-mu+r, bins=10000)\n",
    "# freq = freq.astype('float32')\n",
    "prob = freq/np.sum(freq)\n",
    "\n"
   ]
  },
  {
   "cell_type": "code",
   "execution_count": 156,
   "metadata": {},
   "outputs": [],
   "source": [
    "# Datos de la opción y del día de actual\n",
    "today = pd.Timestamp(date.today())\n",
    "expiry = opt_valuar.Expiry\n",
    "\n",
    "# Fechas desde el día de hoy hasta la fecha de cierre del contrato (considerando unicamente los días hábiles)\n",
    "dates = pd.date_range(start=today, end=expiry, freq='B')\n",
    "\n",
    "# Cantidad de escenarios a simular para el método de montecarlo\n",
    "ndays = len(dates)\n",
    "nscen = 10000\n",
    "\n",
    "K = opt_valuar.Strike\n",
    "S0 = closes_mc.iloc[-1]\n",
    "\n",
    "ret = np.random.choice(values[1:], (ndays,nscen), p=prob)\n",
    "sim_ret_hist = pd.DataFrame(ret, index=dates)\n",
    "sim_closes_hist = S0*np.exp(sim_ret_hist.cumsum())"
   ]
  },
  {
   "cell_type": "code",
   "execution_count": 157,
   "metadata": {},
   "outputs": [
    {
     "data": {
      "image/png": "[encoded data removed]",
      "text/plain": [
       "<Figure size 432x288 with 1 Axes>"
      ]
     },
     "metadata": {
      "needs_background": "light"
     },
     "output_type": "display_data"
    }
   ],
   "source": [
    "strike = pd.DataFrame(K*np.ones([ndays,nscen]),index=dates)\n",
    "put_hist=pd.DataFrame({'Prima':np.exp(-r*ndays)*np.fmax(strike - sim_closes_hist,np.zeros([ndays,nscen])).T.mean()},index=dates)\n",
    "put_hist.plot();"
   ]
  },
  {
   "cell_type": "code",
   "execution_count": 158,
   "metadata": {},
   "outputs": [
    {
     "data": {
      "text/plain": [
       "Prima    5.461964\n",
       "Name: 2021-05-07 00:00:00, dtype: float64"
      ]
     },
     "execution_count": 158,
     "metadata": {},
     "output_type": "execute_result"
    }
   ],
   "source": [
    "put_hist.iloc[-1]"
   ]
  },
  {
   "cell_type": "markdown",
   "metadata": {},
   "source": [
    "### INTERVALO DE CONFIANZA DEL 95%"
   ]
  },
  {
   "cell_type": "code",
   "execution_count": 159,
   "metadata": {},
   "outputs": [
    {
     "name": "stdout",
     "output_type": "stream",
     "text": [
      "(5.340990593340168, 5.5829379727935695)\n"
     ]
    }
   ],
   "source": [
    "confianza = 0.95\n",
    "sigma_est = sim_closes_hist.iloc[-1].sem()\n",
    "mean_est = put_hist.iloc[-1].Prima\n",
    "# i1 = st.t.interval(confianza,nscen-1, loc=mean_est, scale=sigma_est)\n",
    "i2 = st.norm.interval(confianza, loc=mean_est, scale=sigma_est)\n",
    "print(i2)"
   ]
  },
  {
   "cell_type": "code",
   "execution_count": 160,
   "metadata": {},
   "outputs": [
    {
     "data": {
      "text/plain": [
       "8.0"
      ]
     },
     "execution_count": 160,
     "metadata": {},
     "output_type": "execute_result"
    }
   ],
   "source": [
    "opt_valuar['JSON']['lastPrice']"
   ]
  },
  {
   "cell_type": "code",
   "execution_count": 161,
   "metadata": {},
   "outputs": [
    {
     "data": {
      "text/plain": [
       "235.0399932861328"
      ]
     },
     "execution_count": 161,
     "metadata": {},
     "output_type": "execute_result"
    }
   ],
   "source": [
    "# Datos de la opción y del día de actual\n",
    "today = pd.Timestamp(date.today())\n",
    "expiry = opt_valuar.Expiry\n",
    "\n",
    "# Fechas desde el día de hoy hasta la fecha de cierre del contrato (considerando unicamente los días hábiles)\n",
    "dates = pd.date_range(start = today, end = expiry, freq='B')\n",
    "\n",
    "# Cantidad de escenarios a simular para el método de montecarlo\n",
    "ndays = len(dates)\n",
    "nscen = 10000\n",
    "\n",
    "K = opt_valuar.Strike\n",
    "S0 = closes_mc.iloc[-1]\n",
    "\n",
    "sim_ret = pd.DataFrame(sigma*np.random.randn(ndays,nscen)+r,index=dates)\n",
    "sim_closes = S0*np.exp(sim_ret.cumsum())\n",
    "S0"
   ]
  },
  {
   "cell_type": "code",
   "execution_count": 162,
   "metadata": {},
   "outputs": [
    {
     "data": {
      "text/plain": [
       "235.04"
      ]
     },
     "execution_count": 162,
     "metadata": {},
     "output_type": "execute_result"
    }
   ],
   "source": [
    "opt_valuar.Underlying_Price"
   ]
  },
  {
   "cell_type": "code",
   "execution_count": 163,
   "metadata": {},
   "outputs": [
    {
     "data": {
      "text/html": [
       "<div>\n",
       "<style scoped>\n",
       "    .dataframe tbody tr th:only-of-type {\n",
       "        vertical-align: middle;\n",
       "    }\n",
       "\n",
       "    .dataframe tbody tr th {\n",
       "        vertical-align: top;\n",
       "    }\n",
       "\n",
       "    .dataframe thead th {\n",
       "        text-align: right;\n",
       "    }\n",
       "</style>\n",
       "<table border=\"1\" class=\"dataframe\">\n",
       "  <thead>\n",
       "    <tr style=\"text-align: right;\">\n",
       "      <th></th>\n",
       "      <th>0</th>\n",
       "      <th>1</th>\n",
       "      <th>2</th>\n",
       "      <th>3</th>\n",
       "      <th>4</th>\n",
       "      <th>5</th>\n",
       "      <th>6</th>\n",
       "      <th>7</th>\n",
       "      <th>8</th>\n",
       "      <th>9</th>\n",
       "      <th>10</th>\n",
       "      <th>11</th>\n",
       "      <th>12</th>\n",
       "      <th>13</th>\n",
       "      <th>14</th>\n",
       "      <th>15</th>\n",
       "      <th>16</th>\n",
       "      <th>...</th>\n",
       "      <th>9983</th>\n",
       "      <th>9984</th>\n",
       "      <th>9985</th>\n",
       "      <th>9986</th>\n",
       "      <th>9987</th>\n",
       "      <th>9988</th>\n",
       "      <th>9989</th>\n",
       "      <th>9990</th>\n",
       "      <th>9991</th>\n",
       "      <th>9992</th>\n",
       "      <th>9993</th>\n",
       "      <th>9994</th>\n",
       "      <th>9995</th>\n",
       "      <th>9996</th>\n",
       "      <th>9997</th>\n",
       "      <th>9998</th>\n",
       "      <th>9999</th>\n",
       "    </tr>\n",
       "  </thead>\n",
       "  <tbody>\n",
       "    <tr>\n",
       "      <th>2021-05-05</th>\n",
       "      <td>True</td>\n",
       "      <td>True</td>\n",
       "      <td>True</td>\n",
       "      <td>False</td>\n",
       "      <td>True</td>\n",
       "      <td>True</td>\n",
       "      <td>True</td>\n",
       "      <td>True</td>\n",
       "      <td>False</td>\n",
       "      <td>True</td>\n",
       "      <td>True</td>\n",
       "      <td>True</td>\n",
       "      <td>True</td>\n",
       "      <td>True</td>\n",
       "      <td>True</td>\n",
       "      <td>True</td>\n",
       "      <td>True</td>\n",
       "      <td>...</td>\n",
       "      <td>True</td>\n",
       "      <td>True</td>\n",
       "      <td>False</td>\n",
       "      <td>True</td>\n",
       "      <td>True</td>\n",
       "      <td>True</td>\n",
       "      <td>True</td>\n",
       "      <td>True</td>\n",
       "      <td>True</td>\n",
       "      <td>True</td>\n",
       "      <td>False</td>\n",
       "      <td>True</td>\n",
       "      <td>True</td>\n",
       "      <td>True</td>\n",
       "      <td>True</td>\n",
       "      <td>True</td>\n",
       "      <td>True</td>\n",
       "    </tr>\n",
       "    <tr>\n",
       "      <th>2021-05-06</th>\n",
       "      <td>True</td>\n",
       "      <td>True</td>\n",
       "      <td>True</td>\n",
       "      <td>False</td>\n",
       "      <td>True</td>\n",
       "      <td>True</td>\n",
       "      <td>True</td>\n",
       "      <td>True</td>\n",
       "      <td>False</td>\n",
       "      <td>True</td>\n",
       "      <td>True</td>\n",
       "      <td>True</td>\n",
       "      <td>True</td>\n",
       "      <td>True</td>\n",
       "      <td>True</td>\n",
       "      <td>True</td>\n",
       "      <td>True</td>\n",
       "      <td>...</td>\n",
       "      <td>False</td>\n",
       "      <td>True</td>\n",
       "      <td>False</td>\n",
       "      <td>True</td>\n",
       "      <td>True</td>\n",
       "      <td>True</td>\n",
       "      <td>True</td>\n",
       "      <td>True</td>\n",
       "      <td>True</td>\n",
       "      <td>True</td>\n",
       "      <td>False</td>\n",
       "      <td>False</td>\n",
       "      <td>True</td>\n",
       "      <td>False</td>\n",
       "      <td>True</td>\n",
       "      <td>True</td>\n",
       "      <td>True</td>\n",
       "    </tr>\n",
       "    <tr>\n",
       "      <th>2021-05-07</th>\n",
       "      <td>True</td>\n",
       "      <td>False</td>\n",
       "      <td>True</td>\n",
       "      <td>False</td>\n",
       "      <td>True</td>\n",
       "      <td>True</td>\n",
       "      <td>True</td>\n",
       "      <td>True</td>\n",
       "      <td>False</td>\n",
       "      <td>True</td>\n",
       "      <td>True</td>\n",
       "      <td>False</td>\n",
       "      <td>True</td>\n",
       "      <td>True</td>\n",
       "      <td>True</td>\n",
       "      <td>True</td>\n",
       "      <td>True</td>\n",
       "      <td>...</td>\n",
       "      <td>False</td>\n",
       "      <td>True</td>\n",
       "      <td>False</td>\n",
       "      <td>True</td>\n",
       "      <td>True</td>\n",
       "      <td>True</td>\n",
       "      <td>False</td>\n",
       "      <td>True</td>\n",
       "      <td>True</td>\n",
       "      <td>True</td>\n",
       "      <td>False</td>\n",
       "      <td>False</td>\n",
       "      <td>True</td>\n",
       "      <td>False</td>\n",
       "      <td>True</td>\n",
       "      <td>True</td>\n",
       "      <td>True</td>\n",
       "    </tr>\n",
       "  </tbody>\n",
       "</table>\n",
       "<p>3 rows × 10000 columns</p>\n",
       "</div>"
      ],
      "text/plain": [
       "            0      1     2      3     4     5     6     7      8     9     \\\n",
       "2021-05-05  True   True  True  False  True  True  True  True  False  True   \n",
       "2021-05-06  True   True  True  False  True  True  True  True  False  True   \n",
       "2021-05-07  True  False  True  False  True  True  True  True  False  True   \n",
       "\n",
       "            10     11    12    13    14    15    16    ...   9983  9984  \\\n",
       "2021-05-05  True   True  True  True  True  True  True  ...   True  True   \n",
       "2021-05-06  True   True  True  True  True  True  True  ...  False  True   \n",
       "2021-05-07  True  False  True  True  True  True  True  ...  False  True   \n",
       "\n",
       "             9985  9986  9987  9988   9989  9990  9991  9992   9993   9994  \\\n",
       "2021-05-05  False  True  True  True   True  True  True  True  False   True   \n",
       "2021-05-06  False  True  True  True   True  True  True  True  False  False   \n",
       "2021-05-07  False  True  True  True  False  True  True  True  False  False   \n",
       "\n",
       "            9995   9996  9997  9998  9999  \n",
       "2021-05-05  True   True  True  True  True  \n",
       "2021-05-06  True  False  True  True  True  \n",
       "2021-05-07  True  False  True  True  True  \n",
       "\n",
       "[3 rows x 10000 columns]"
      ]
     },
     "execution_count": 163,
     "metadata": {},
     "output_type": "execute_result"
    }
   ],
   "source": [
    "pd.set_option('display.max_columns', 35)\n",
    "\n",
    "B= 240\n",
    "\n",
    "# Función de desactivación (knock-out)\n",
    "# Si en algún momento el precio toca la barrera la opción se desactiva\n",
    "I = (sim_closes < B).cumprod(axis=0) > 0\n",
    "I"
   ]
  },
  {
   "cell_type": "code",
   "execution_count": 164,
   "metadata": {},
   "outputs": [
    {
     "data": {
      "text/plain": [
       "(240.0, 235.04)"
      ]
     },
     "execution_count": 164,
     "metadata": {},
     "output_type": "execute_result"
    }
   ],
   "source": [
    "K = opt_valuar.Strike\n",
    "S0 = opt_valuar.Underlying_Price\n",
    "K, S0"
   ]
  },
  {
   "cell_type": "code",
   "execution_count": 165,
   "metadata": {},
   "outputs": [
    {
     "data": {
      "image/png": "[encoded data removed]",
      "text/plain": [
       "<Figure size 432x288 with 1 Axes>"
      ]
     },
     "metadata": {
      "needs_background": "light"
     },
     "output_type": "display_data"
    }
   ],
   "source": [
    "# Definir strike\n",
    "strike = K\n",
    "# Calcular la prima de una opción Europea\n",
    "put = pd.DataFrame({'Prima Europea':np.exp(-r*ndays)*np.fmax(strike - sim_closes , 0)\n",
    "                     .mean(axis=1)},index=dates)\n",
    "# Calcular la prima de una opción barrera\n",
    "putui = pd.DataFrame({'Prima up-and-out':np.exp(-r*ndays)*(I * np.fmax(strike-sim_closes, 0))\n",
    "                       .mean(axis=1)},index=dates)\n",
    "# Graficar el resultado de las dos primas previamente valuadas\n",
    "ax = putui.plot();\n",
    "put.plot(ax=ax);"
   ]
  },
  {
   "cell_type": "code",
   "execution_count": 166,
   "metadata": {},
   "outputs": [
    {
     "data": {
      "text/plain": [
       "Prima Europea    5.561215\n",
       "Name: 2021-05-07 00:00:00, dtype: float64"
      ]
     },
     "execution_count": 166,
     "metadata": {},
     "output_type": "execute_result"
    }
   ],
   "source": [
    "put.iloc[-1]"
   ]
  },
  {
   "cell_type": "code",
   "execution_count": 167,
   "metadata": {},
   "outputs": [
    {
     "data": {
      "text/plain": [
       "Prima up-and-out    5.372725\n",
       "Name: 2021-05-07 00:00:00, dtype: float64"
      ]
     },
     "execution_count": 167,
     "metadata": {},
     "output_type": "execute_result"
    }
   ],
   "source": [
    "putui.iloc[-1]"
   ]
  },
  {
   "cell_type": "markdown",
   "metadata": {},
   "source": [
    "## ANALISIS FINAL"
   ]
  },
  {
   "cell_type": "code",
   "execution_count": null,
   "metadata": {},
   "outputs": [],
   "source": []
  },
  {
   "cell_type": "markdown",
   "metadata": {},
   "source": [
    "# RESPUESTA JUAN PABLO"
   ]
  },
  {
   "cell_type": "code",
   "execution_count": 2,
   "metadata": {},
   "outputs": [],
   "source": [
    "#importar los paquetes que se van a usar\n",
    "import pandas as pd\n",
    "import pandas_datareader.data as web\n",
    "import numpy as np\n",
    "from sklearn.neighbors import KernelDensity\n",
    "import datetime\n",
    "from datetime import datetime, timedelta\n",
    "import scipy.stats as st\n",
    "import scipy as sp\n",
    "import scipy.optimize as optimize\n",
    "import scipy.cluster.hierarchy as hac\n",
    "import matplotlib.pyplot as plt\n",
    "import seaborn as sns\n",
    "%matplotlib inline\n",
    "#algunas opciones para Python\n",
    "pd.set_option('display.notebook_repr_html', True)\n",
    "pd.set_option('display.max_columns', 6)\n",
    "pd.set_option('display.max_rows', 10)\n",
    "pd.set_option('display.width', 78)\n",
    "pd.set_option('precision', 3)"
   ]
  },
  {
   "cell_type": "markdown",
   "metadata": {},
   "source": [
    "## Se descargan los precios del subyacente: `MSFT`"
   ]
  },
  {
   "cell_type": "code",
   "execution_count": 3,
   "metadata": {},
   "outputs": [],
   "source": [
    "# Función para descargar precios de cierre ajustados:\n",
    "def get_adj_closes(tickers, start_date=None, end_date=None):\n",
    "    # Fecha inicio por defecto (start_date='2010-01-01') y fecha fin por defecto (end_date=today)\n",
    "    # Descargamos DataFrame con todos los datos\n",
    "    closes = web.DataReader(name=tickers, data_source='yahoo', start=start_date, end=end_date)\n",
    "    # Solo necesitamos los precios ajustados en el cierre\n",
    "    closes = closes['Adj Close']\n",
    "    # Se ordenan los índices de manera ascendente\n",
    "    closes.sort_index(inplace=True)\n",
    "    return closes\n",
    "\n",
    "####### Calculation of log-returns\n",
    "def calc_daily_ret(closes):\n",
    "    return np.log(closes/closes.shift(1)).dropna()"
   ]
  },
  {
   "cell_type": "code",
   "execution_count": 4,
   "metadata": {},
   "outputs": [
    {
     "data": {
      "text/plain": [
       "Date\n",
       "2017-01-03     58.538\n",
       "2017-01-04     58.276\n",
       "2017-01-05     58.276\n",
       "2017-01-06     58.782\n",
       "2017-01-09     58.595\n",
       "               ...   \n",
       "2021-04-30    252.180\n",
       "2021-05-03    251.860\n",
       "2021-05-04    247.790\n",
       "2021-05-05    246.470\n",
       "2021-05-06    249.730\n",
       "Name: MSFT, Length: 1093, dtype: float64"
      ]
     },
     "execution_count": 4,
     "metadata": {},
     "output_type": "execute_result"
    }
   ],
   "source": [
    "closes = get_adj_closes(['MSFT'],'2017-01-01')\n",
    "closes_msft = closes.loc[:,'MSFT']\n",
    "closes_msft"
   ]
  },
  {
   "cell_type": "markdown",
   "metadata": {},
   "source": [
    "## Graficar los precios"
   ]
  },
  {
   "cell_type": "code",
   "execution_count": 5,
   "metadata": {},
   "outputs": [
    {
     "data": {
      "image/png": "[encoded data removed]",
      "text/plain": [
       "<Figure size 576x432 with 1 Axes>"
      ]
     },
     "metadata": {
      "needs_background": "light"
     },
     "output_type": "display_data"
    }
   ],
   "source": [
    "closes_msft.plot(figsize=[8,6]);"
   ]
  },
  {
   "cell_type": "markdown",
   "metadata": {},
   "source": [
    "## Calcular los rendimientos"
   ]
  },
  {
   "cell_type": "code",
   "execution_count": 6,
   "metadata": {},
   "outputs": [],
   "source": [
    "ret_msft = calc_daily_ret(closes_msft)"
   ]
  },
  {
   "cell_type": "markdown",
   "metadata": {},
   "source": [
    "## Descargar datos de opciones para poder valuarlos\n",
    "\n",
    "_Opciones de MSFT_"
   ]
  },
  {
   "cell_type": "code",
   "execution_count": 7,
   "metadata": {},
   "outputs": [
    {
     "data": {
      "text/html": [
       "<div>\n",
       "<style scoped>\n",
       "    .dataframe tbody tr th:only-of-type {\n",
       "        vertical-align: middle;\n",
       "    }\n",
       "\n",
       "    .dataframe tbody tr th {\n",
       "        vertical-align: top;\n",
       "    }\n",
       "\n",
       "    .dataframe thead th {\n",
       "        text-align: right;\n",
       "    }\n",
       "</style>\n",
       "<table border=\"1\" class=\"dataframe\">\n",
       "  <thead>\n",
       "    <tr style=\"text-align: right;\">\n",
       "      <th></th>\n",
       "      <th>Strike</th>\n",
       "      <th>Type</th>\n",
       "      <th>Symbol</th>\n",
       "      <th>...</th>\n",
       "      <th>Quote_Time</th>\n",
       "      <th>Last_Trade_Date</th>\n",
       "      <th>JSON</th>\n",
       "    </tr>\n",
       "    <tr>\n",
       "      <th>Expiry</th>\n",
       "      <th></th>\n",
       "      <th></th>\n",
       "      <th></th>\n",
       "      <th></th>\n",
       "      <th></th>\n",
       "      <th></th>\n",
       "      <th></th>\n",
       "    </tr>\n",
       "  </thead>\n",
       "  <tbody>\n",
       "    <tr>\n",
       "      <th>2021-05-07</th>\n",
       "      <td>200.0</td>\n",
       "      <td>call</td>\n",
       "      <td>MSFT210507C00200000</td>\n",
       "      <td>...</td>\n",
       "      <td>2021-05-06 20:00:02</td>\n",
       "      <td>2021-05-05 19:00:24</td>\n",
       "      <td>{'contractSymbol': 'MSFT210507C00200000', 'str...</td>\n",
       "    </tr>\n",
       "    <tr>\n",
       "      <th>2021-05-07</th>\n",
       "      <td>155.0</td>\n",
       "      <td>put</td>\n",
       "      <td>MSFT210507P00155000</td>\n",
       "      <td>...</td>\n",
       "      <td>2021-05-06 20:00:02</td>\n",
       "      <td>2021-04-23 17:46:50</td>\n",
       "      <td>{'contractSymbol': 'MSFT210507P00155000', 'str...</td>\n",
       "    </tr>\n",
       "    <tr>\n",
       "      <th>2021-05-07</th>\n",
       "      <td>120.0</td>\n",
       "      <td>put</td>\n",
       "      <td>MSFT210507P00120000</td>\n",
       "      <td>...</td>\n",
       "      <td>2021-05-06 20:00:02</td>\n",
       "      <td>2021-05-03 13:30:01</td>\n",
       "      <td>{'contractSymbol': 'MSFT210507P00120000', 'str...</td>\n",
       "    </tr>\n",
       "    <tr>\n",
       "      <th>2021-05-07</th>\n",
       "      <td>120.0</td>\n",
       "      <td>call</td>\n",
       "      <td>MSFT210507C00120000</td>\n",
       "      <td>...</td>\n",
       "      <td>2021-05-06 20:00:02</td>\n",
       "      <td>2021-05-06 19:59:12</td>\n",
       "      <td>{'contractSymbol': 'MSFT210507C00120000', 'str...</td>\n",
       "    </tr>\n",
       "    <tr>\n",
       "      <th>2021-05-07</th>\n",
       "      <td>252.5</td>\n",
       "      <td>put</td>\n",
       "      <td>MSFT210507P00252500</td>\n",
       "      <td>...</td>\n",
       "      <td>2021-05-06 20:00:02</td>\n",
       "      <td>2021-05-06 19:58:56</td>\n",
       "      <td>{'contractSymbol': 'MSFT210507P00252500', 'str...</td>\n",
       "    </tr>\n",
       "    <tr>\n",
       "      <th>...</th>\n",
       "      <td>...</td>\n",
       "      <td>...</td>\n",
       "      <td>...</td>\n",
       "      <td>...</td>\n",
       "      <td>...</td>\n",
       "      <td>...</td>\n",
       "      <td>...</td>\n",
       "    </tr>\n",
       "    <tr>\n",
       "      <th>2023-06-16</th>\n",
       "      <td>285.0</td>\n",
       "      <td>call</td>\n",
       "      <td>MSFT230616C00285000</td>\n",
       "      <td>...</td>\n",
       "      <td>2021-05-06 20:00:02</td>\n",
       "      <td>2021-05-06 13:52:47</td>\n",
       "      <td>{'contractSymbol': 'MSFT230616C00285000', 'str...</td>\n",
       "    </tr>\n",
       "    <tr>\n",
       "      <th>2023-06-16</th>\n",
       "      <td>285.0</td>\n",
       "      <td>put</td>\n",
       "      <td>MSFT230616P00285000</td>\n",
       "      <td>...</td>\n",
       "      <td>2021-05-06 20:00:02</td>\n",
       "      <td>2021-04-29 19:07:08</td>\n",
       "      <td>{'contractSymbol': 'MSFT230616P00285000', 'str...</td>\n",
       "    </tr>\n",
       "    <tr>\n",
       "      <th>2023-06-16</th>\n",
       "      <td>290.0</td>\n",
       "      <td>call</td>\n",
       "      <td>MSFT230616C00290000</td>\n",
       "      <td>...</td>\n",
       "      <td>2021-05-06 20:00:02</td>\n",
       "      <td>2021-05-06 16:45:37</td>\n",
       "      <td>{'contractSymbol': 'MSFT230616C00290000', 'str...</td>\n",
       "    </tr>\n",
       "    <tr>\n",
       "      <th>2023-06-16</th>\n",
       "      <td>295.0</td>\n",
       "      <td>call</td>\n",
       "      <td>MSFT230616C00295000</td>\n",
       "      <td>...</td>\n",
       "      <td>2021-05-06 20:00:02</td>\n",
       "      <td>2021-05-05 17:11:28</td>\n",
       "      <td>{'contractSymbol': 'MSFT230616C00295000', 'str...</td>\n",
       "    </tr>\n",
       "    <tr>\n",
       "      <th>2023-06-16</th>\n",
       "      <td>390.0</td>\n",
       "      <td>put</td>\n",
       "      <td>MSFT230616P00390000</td>\n",
       "      <td>...</td>\n",
       "      <td>2021-05-06 20:00:02</td>\n",
       "      <td>2021-04-30 17:09:46</td>\n",
       "      <td>{'contractSymbol': 'MSFT230616P00390000', 'str...</td>\n",
       "    </tr>\n",
       "  </tbody>\n",
       "</table>\n",
       "<p>1876 rows × 18 columns</p>\n",
       "</div>"
      ],
      "text/plain": [
       "            Strike  Type               Symbol  ...          Quote_Time  \\\n",
       "Expiry                                         ...                       \n",
       "2021-05-07   200.0  call  MSFT210507C00200000  ... 2021-05-06 20:00:02   \n",
       "2021-05-07   155.0   put  MSFT210507P00155000  ... 2021-05-06 20:00:02   \n",
       "2021-05-07   120.0   put  MSFT210507P00120000  ... 2021-05-06 20:00:02   \n",
       "2021-05-07   120.0  call  MSFT210507C00120000  ... 2021-05-06 20:00:02   \n",
       "2021-05-07   252.5   put  MSFT210507P00252500  ... 2021-05-06 20:00:02   \n",
       "...            ...   ...                  ...  ...                 ...   \n",
       "2023-06-16   285.0  call  MSFT230616C00285000  ... 2021-05-06 20:00:02   \n",
       "2023-06-16   285.0   put  MSFT230616P00285000  ... 2021-05-06 20:00:02   \n",
       "2023-06-16   290.0  call  MSFT230616C00290000  ... 2021-05-06 20:00:02   \n",
       "2023-06-16   295.0  call  MSFT230616C00295000  ... 2021-05-06 20:00:02   \n",
       "2023-06-16   390.0   put  MSFT230616P00390000  ... 2021-05-06 20:00:02   \n",
       "\n",
       "               Last_Trade_Date  \\\n",
       "Expiry                           \n",
       "2021-05-07 2021-05-05 19:00:24   \n",
       "2021-05-07 2021-04-23 17:46:50   \n",
       "2021-05-07 2021-05-03 13:30:01   \n",
       "2021-05-07 2021-05-06 19:59:12   \n",
       "2021-05-07 2021-05-06 19:58:56   \n",
       "...                        ...   \n",
       "2023-06-16 2021-05-06 13:52:47   \n",
       "2023-06-16 2021-04-29 19:07:08   \n",
       "2023-06-16 2021-05-06 16:45:37   \n",
       "2023-06-16 2021-05-05 17:11:28   \n",
       "2023-06-16 2021-04-30 17:09:46   \n",
       "\n",
       "                                                         JSON  \n",
       "Expiry                                                         \n",
       "2021-05-07  {'contractSymbol': 'MSFT210507C00200000', 'str...  \n",
       "2021-05-07  {'contractSymbol': 'MSFT210507P00155000', 'str...  \n",
       "2021-05-07  {'contractSymbol': 'MSFT210507P00120000', 'str...  \n",
       "2021-05-07  {'contractSymbol': 'MSFT210507C00120000', 'str...  \n",
       "2021-05-07  {'contractSymbol': 'MSFT210507P00252500', 'str...  \n",
       "...                                                       ...  \n",
       "2023-06-16  {'contractSymbol': 'MSFT230616C00285000', 'str...  \n",
       "2023-06-16  {'contractSymbol': 'MSFT230616P00285000', 'str...  \n",
       "2023-06-16  {'contractSymbol': 'MSFT230616C00290000', 'str...  \n",
       "2023-06-16  {'contractSymbol': 'MSFT230616C00295000', 'str...  \n",
       "2023-06-16  {'contractSymbol': 'MSFT230616P00390000', 'str...  \n",
       "\n",
       "[1876 rows x 18 columns]"
      ]
     },
     "execution_count": 7,
     "metadata": {},
     "output_type": "execute_result"
    }
   ],
   "source": [
    "pd.set_option('display.max_rows',10)\n",
    "\n",
    "msft = web.YahooOptions('MSFT')\n",
    "msft_opt = msft.get_all_data().reset_index()\n",
    "msft_opt.set_index('Expiry').sort_index()"
   ]
  },
  {
   "cell_type": "markdown",
   "metadata": {},
   "source": [
    ">Elijo una fecha de vencimiento en particular."
   ]
  },
  {
   "cell_type": "code",
   "execution_count": 8,
   "metadata": {},
   "outputs": [
    {
     "data": {
      "text/html": [
       "<div>\n",
       "<style scoped>\n",
       "    .dataframe tbody tr th:only-of-type {\n",
       "        vertical-align: middle;\n",
       "    }\n",
       "\n",
       "    .dataframe tbody tr th {\n",
       "        vertical-align: top;\n",
       "    }\n",
       "\n",
       "    .dataframe thead th {\n",
       "        text-align: right;\n",
       "    }\n",
       "</style>\n",
       "<table border=\"1\" class=\"dataframe\">\n",
       "  <thead>\n",
       "    <tr style=\"text-align: right;\">\n",
       "      <th></th>\n",
       "      <th>Strike</th>\n",
       "      <th>Expiry</th>\n",
       "      <th>Type</th>\n",
       "      <th>...</th>\n",
       "      <th>Quote_Time</th>\n",
       "      <th>Last_Trade_Date</th>\n",
       "      <th>JSON</th>\n",
       "    </tr>\n",
       "  </thead>\n",
       "  <tbody>\n",
       "    <tr>\n",
       "      <th>0</th>\n",
       "      <td>65.0</td>\n",
       "      <td>2021-06-18</td>\n",
       "      <td>call</td>\n",
       "      <td>...</td>\n",
       "      <td>2021-05-06 20:00:02</td>\n",
       "      <td>2021-04-30 14:37:48</td>\n",
       "      <td>{'contractSymbol': 'MSFT210618C00065000', 'str...</td>\n",
       "    </tr>\n",
       "    <tr>\n",
       "      <th>2</th>\n",
       "      <td>70.0</td>\n",
       "      <td>2021-06-18</td>\n",
       "      <td>call</td>\n",
       "      <td>...</td>\n",
       "      <td>2021-05-06 20:00:02</td>\n",
       "      <td>2021-04-30 13:49:44</td>\n",
       "      <td>{'contractSymbol': 'MSFT210618C00070000', 'str...</td>\n",
       "    </tr>\n",
       "    <tr>\n",
       "      <th>6</th>\n",
       "      <td>75.0</td>\n",
       "      <td>2021-06-18</td>\n",
       "      <td>call</td>\n",
       "      <td>...</td>\n",
       "      <td>2021-05-06 20:00:02</td>\n",
       "      <td>2021-05-04 17:43:47</td>\n",
       "      <td>{'contractSymbol': 'MSFT210618C00075000', 'str...</td>\n",
       "    </tr>\n",
       "    <tr>\n",
       "      <th>10</th>\n",
       "      <td>80.0</td>\n",
       "      <td>2021-06-18</td>\n",
       "      <td>call</td>\n",
       "      <td>...</td>\n",
       "      <td>2021-05-06 20:00:02</td>\n",
       "      <td>2021-03-29 14:22:01</td>\n",
       "      <td>{'contractSymbol': 'MSFT210618C00080000', 'str...</td>\n",
       "    </tr>\n",
       "    <tr>\n",
       "      <th>20</th>\n",
       "      <td>85.0</td>\n",
       "      <td>2021-06-18</td>\n",
       "      <td>call</td>\n",
       "      <td>...</td>\n",
       "      <td>2021-05-06 20:00:02</td>\n",
       "      <td>2021-04-20 13:47:45</td>\n",
       "      <td>{'contractSymbol': 'MSFT210618C00085000', 'str...</td>\n",
       "    </tr>\n",
       "    <tr>\n",
       "      <th>...</th>\n",
       "      <td>...</td>\n",
       "      <td>...</td>\n",
       "      <td>...</td>\n",
       "      <td>...</td>\n",
       "      <td>...</td>\n",
       "      <td>...</td>\n",
       "      <td>...</td>\n",
       "    </tr>\n",
       "    <tr>\n",
       "      <th>1769</th>\n",
       "      <td>360.0</td>\n",
       "      <td>2021-06-18</td>\n",
       "      <td>call</td>\n",
       "      <td>...</td>\n",
       "      <td>2021-05-06 20:00:02</td>\n",
       "      <td>2021-05-05 19:07:34</td>\n",
       "      <td>{'contractSymbol': 'MSFT210618C00360000', 'str...</td>\n",
       "    </tr>\n",
       "    <tr>\n",
       "      <th>1792</th>\n",
       "      <td>365.0</td>\n",
       "      <td>2021-06-18</td>\n",
       "      <td>call</td>\n",
       "      <td>...</td>\n",
       "      <td>2021-05-06 20:00:02</td>\n",
       "      <td>2021-05-06 15:21:59</td>\n",
       "      <td>{'contractSymbol': 'MSFT210618C00365000', 'str...</td>\n",
       "    </tr>\n",
       "    <tr>\n",
       "      <th>1808</th>\n",
       "      <td>370.0</td>\n",
       "      <td>2021-06-18</td>\n",
       "      <td>call</td>\n",
       "      <td>...</td>\n",
       "      <td>2021-05-06 20:00:02</td>\n",
       "      <td>2021-05-06 16:53:46</td>\n",
       "      <td>{'contractSymbol': 'MSFT210618C00370000', 'str...</td>\n",
       "    </tr>\n",
       "    <tr>\n",
       "      <th>1827</th>\n",
       "      <td>375.0</td>\n",
       "      <td>2021-06-18</td>\n",
       "      <td>call</td>\n",
       "      <td>...</td>\n",
       "      <td>2021-05-06 20:00:02</td>\n",
       "      <td>2021-05-06 13:36:22</td>\n",
       "      <td>{'contractSymbol': 'MSFT210618C00375000', 'str...</td>\n",
       "    </tr>\n",
       "    <tr>\n",
       "      <th>1841</th>\n",
       "      <td>380.0</td>\n",
       "      <td>2021-06-18</td>\n",
       "      <td>call</td>\n",
       "      <td>...</td>\n",
       "      <td>2021-05-06 20:00:02</td>\n",
       "      <td>2021-05-06 15:45:27</td>\n",
       "      <td>{'contractSymbol': 'MSFT210618C00380000', 'str...</td>\n",
       "    </tr>\n",
       "  </tbody>\n",
       "</table>\n",
       "<p>64 rows × 19 columns</p>\n",
       "</div>"
      ],
      "text/plain": [
       "      Strike     Expiry  Type  ...          Quote_Time     Last_Trade_Date  \\\n",
       "0       65.0 2021-06-18  call  ... 2021-05-06 20:00:02 2021-04-30 14:37:48   \n",
       "2       70.0 2021-06-18  call  ... 2021-05-06 20:00:02 2021-04-30 13:49:44   \n",
       "6       75.0 2021-06-18  call  ... 2021-05-06 20:00:02 2021-05-04 17:43:47   \n",
       "10      80.0 2021-06-18  call  ... 2021-05-06 20:00:02 2021-03-29 14:22:01   \n",
       "20      85.0 2021-06-18  call  ... 2021-05-06 20:00:02 2021-04-20 13:47:45   \n",
       "...      ...        ...   ...  ...                 ...                 ...   \n",
       "1769   360.0 2021-06-18  call  ... 2021-05-06 20:00:02 2021-05-05 19:07:34   \n",
       "1792   365.0 2021-06-18  call  ... 2021-05-06 20:00:02 2021-05-06 15:21:59   \n",
       "1808   370.0 2021-06-18  call  ... 2021-05-06 20:00:02 2021-05-06 16:53:46   \n",
       "1827   375.0 2021-06-18  call  ... 2021-05-06 20:00:02 2021-05-06 13:36:22   \n",
       "1841   380.0 2021-06-18  call  ... 2021-05-06 20:00:02 2021-05-06 15:45:27   \n",
       "\n",
       "                                                   JSON  \n",
       "0     {'contractSymbol': 'MSFT210618C00065000', 'str...  \n",
       "2     {'contractSymbol': 'MSFT210618C00070000', 'str...  \n",
       "6     {'contractSymbol': 'MSFT210618C00075000', 'str...  \n",
       "10    {'contractSymbol': 'MSFT210618C00080000', 'str...  \n",
       "20    {'contractSymbol': 'MSFT210618C00085000', 'str...  \n",
       "...                                                 ...  \n",
       "1769  {'contractSymbol': 'MSFT210618C00360000', 'str...  \n",
       "1792  {'contractSymbol': 'MSFT210618C00365000', 'str...  \n",
       "1808  {'contractSymbol': 'MSFT210618C00370000', 'str...  \n",
       "1827  {'contractSymbol': 'MSFT210618C00375000', 'str...  \n",
       "1841  {'contractSymbol': 'MSFT210618C00380000', 'str...  \n",
       "\n",
       "[64 rows x 19 columns]"
      ]
     },
     "execution_count": 8,
     "metadata": {},
     "output_type": "execute_result"
    }
   ],
   "source": [
    "fecha = '2021-06-18'\n",
    "opt_call = msft_opt.loc[(msft_opt.Type=='call') & (msft_opt.Expiry==fecha)]\n",
    "opt_call"
   ]
  },
  {
   "cell_type": "markdown",
   "metadata": {},
   "source": [
    "## Sonrisa de volatilidad"
   ]
  },
  {
   "cell_type": "markdown",
   "metadata": {},
   "source": [
    ">Utilizo la sonrisa de volatilidad para elegir mi precio de ejercicio "
   ]
  },
  {
   "cell_type": "code",
   "execution_count": 9,
   "metadata": {},
   "outputs": [
    {
     "data": {
      "text/plain": [
       "<matplotlib.lines.Line2D at 0x15cce8e95e0>"
      ]
     },
     "execution_count": 9,
     "metadata": {},
     "output_type": "execute_result"
    },
    {
     "data": {
      "image/png": "[encoded data removed]",
      "text/plain": [
       "<Figure size 576x432 with 1 Axes>"
      ]
     },
     "metadata": {
      "needs_background": "light"
     },
     "output_type": "display_data"
    }
   ],
   "source": [
    "smile = opt_call.set_index('Strike').loc[:,'IV'].plot(figsize=[8,6])\n",
    "smile.axvline(opt_call.Underlying_Price.iloc[0],color='m')"
   ]
  },
  {
   "cell_type": "code",
   "execution_count": 10,
   "metadata": {},
   "outputs": [
    {
     "name": "stdout",
     "output_type": "stream",
     "text": [
      "El precio actual del activo es 249.73\n"
     ]
    }
   ],
   "source": [
    "# valor actual del subyacente\n",
    "print('El precio actual del activo es',opt_call.Underlying_Price.iloc[0])"
   ]
  },
  {
   "cell_type": "code",
   "execution_count": 11,
   "metadata": {},
   "outputs": [],
   "source": [
    "# strike elegido\n",
    "K = 255"
   ]
  },
  {
   "cell_type": "code",
   "execution_count": 12,
   "metadata": {},
   "outputs": [
    {
     "data": {
      "text/html": [
       "<div>\n",
       "<style scoped>\n",
       "    .dataframe tbody tr th:only-of-type {\n",
       "        vertical-align: middle;\n",
       "    }\n",
       "\n",
       "    .dataframe tbody tr th {\n",
       "        vertical-align: top;\n",
       "    }\n",
       "\n",
       "    .dataframe thead th {\n",
       "        text-align: right;\n",
       "    }\n",
       "</style>\n",
       "<table border=\"1\" class=\"dataframe\">\n",
       "  <thead>\n",
       "    <tr style=\"text-align: right;\">\n",
       "      <th></th>\n",
       "      <th>Strike</th>\n",
       "      <th>Expiry</th>\n",
       "      <th>Type</th>\n",
       "      <th>...</th>\n",
       "      <th>Quote_Time</th>\n",
       "      <th>Last_Trade_Date</th>\n",
       "      <th>JSON</th>\n",
       "    </tr>\n",
       "  </thead>\n",
       "  <tbody>\n",
       "    <tr>\n",
       "      <th>1082</th>\n",
       "      <td>255.0</td>\n",
       "      <td>2021-06-18</td>\n",
       "      <td>call</td>\n",
       "      <td>...</td>\n",
       "      <td>2021-05-06 20:00:02</td>\n",
       "      <td>2021-05-06 19:59:12</td>\n",
       "      <td>{'contractSymbol': 'MSFT210618C00255000', 'str...</td>\n",
       "    </tr>\n",
       "  </tbody>\n",
       "</table>\n",
       "<p>1 rows × 19 columns</p>\n",
       "</div>"
      ],
      "text/plain": [
       "      Strike     Expiry  Type  ...          Quote_Time     Last_Trade_Date  \\\n",
       "1082   255.0 2021-06-18  call  ... 2021-05-06 20:00:02 2021-05-06 19:59:12   \n",
       "\n",
       "                                                   JSON  \n",
       "1082  {'contractSymbol': 'MSFT210618C00255000', 'str...  \n",
       "\n",
       "[1 rows x 19 columns]"
      ]
     },
     "execution_count": 12,
     "metadata": {},
     "output_type": "execute_result"
    }
   ],
   "source": [
    "opt_select = opt_call.loc[ (opt_call.Expiry==fecha) & (opt_call.Strike==K)]\n",
    "opt_select"
   ]
  },
  {
   "cell_type": "code",
   "execution_count": 13,
   "metadata": {},
   "outputs": [
    {
     "data": {
      "text/plain": [
       "{'contractSymbol': 'MSFT210618C00255000',\n",
       " 'strike': 255.0,\n",
       " 'currency': 'USD',\n",
       " 'lastPrice': 4.75,\n",
       " 'change': 1.25,\n",
       " 'percentChange': 35.714287,\n",
       " 'volume': 1979,\n",
       " 'openInterest': 10049,\n",
       " 'bid': 4.6,\n",
       " 'ask': 4.85,\n",
       " 'contractSize': 'REGULAR',\n",
       " 'expiration': 1623974400,\n",
       " 'lastTradeDate': 1620331152,\n",
       " 'impliedVolatility': 0.20777159423828123,\n",
       " 'inTheMoney': False}"
      ]
     },
     "execution_count": 13,
     "metadata": {},
     "output_type": "execute_result"
    }
   ],
   "source": [
    "i_opt = opt_select.index\n",
    "opcion = msft_opt.loc[i_opt[0]]\n",
    "opcion['JSON']"
   ]
  },
  {
   "cell_type": "markdown",
   "metadata": {},
   "source": [
    "### Valuación de la opción baśandonos en la función de pago correspondiente (Europea)"
   ]
  },
  {
   "cell_type": "markdown",
   "metadata": {},
   "source": [
    "## Modelo normal de rendimientos"
   ]
  },
  {
   "cell_type": "markdown",
   "metadata": {},
   "source": [
    "Tomo la tasa libre de riesgo de la pagina de la FED\n",
    "\n",
    " https://www.treasury.gov/resource-center/data-chart-center/interest-rates/Pages/TextView.aspx?data=yield"
   ]
  },
  {
   "cell_type": "code",
   "execution_count": 14,
   "metadata": {},
   "outputs": [
    {
     "data": {
      "text/plain": [
       "(0.001328477164498612, 0.017979041435552272, 1.6666666666666665e-06)"
      ]
     },
     "execution_count": 14,
     "metadata": {},
     "output_type": "execute_result"
    }
   ],
   "source": [
    "mu = ret_msft.mean()\n",
    "sigma = ret_msft.std()\n",
    "r = (0.06/100)/360\n",
    "mu,sigma,r"
   ]
  },
  {
   "cell_type": "markdown",
   "metadata": {},
   "source": [
    "## Simulación de precios"
   ]
  },
  {
   "cell_type": "code",
   "execution_count": 15,
   "metadata": {},
   "outputs": [],
   "source": [
    "from datetime import date\n",
    "\n",
    "# Datos de la opción y del día de actual\n",
    "today = pd.Timestamp(date.today())\n",
    "expiry = opcion.Expiry\n",
    "\n",
    "# Fechas desde el día de hoy hasta la fecha de cierre del contrato (considerando unicamente los días hábiles)\n",
    "dates = pd.date_range(start=today, end=expiry, freq='B')\n",
    "\n",
    "# Cantidad de escenarios a simular para el método de montecarlo\n",
    "ndays = len(dates)\n",
    "nscen = 10000\n",
    "\n",
    "K = opcion.Strike\n",
    "S0 = closes_msft.iloc[-1]\n",
    "sim_ret = pd.DataFrame(sigma*np.random.randn(ndays,nscen)+r,index=dates)\n",
    "sim_closes = S0*np.exp(sim_ret.cumsum())"
   ]
  },
  {
   "cell_type": "code",
   "execution_count": 16,
   "metadata": {},
   "outputs": [
    {
     "data": {
      "image/png": "[encoded data removed]",
      "text/plain": [
       "<Figure size 432x288 with 1 Axes>"
      ]
     },
     "metadata": {
      "needs_background": "light"
     },
     "output_type": "display_data"
    }
   ],
   "source": [
    "strike = K\n",
    "call=pd.DataFrame({'Prima':np.exp(-r*ndays)*np.fmax(sim_closes - strike, 0).mean(axis=1)}, index=dates)\n",
    "call.plot();"
   ]
  },
  {
   "cell_type": "code",
   "execution_count": 17,
   "metadata": {},
   "outputs": [
    {
     "data": {
      "text/plain": [
       "Prima    8.52\n",
       "Name: 2021-06-18 00:00:00, dtype: float64"
      ]
     },
     "execution_count": 17,
     "metadata": {},
     "output_type": "execute_result"
    }
   ],
   "source": [
    "call.iloc[-1]"
   ]
  },
  {
   "cell_type": "markdown",
   "metadata": {},
   "source": [
    "## Intervalos de confianza"
   ]
  },
  {
   "cell_type": "code",
   "execution_count": 18,
   "metadata": {},
   "outputs": [
    {
     "name": "stdout",
     "output_type": "stream",
     "text": [
      "(8.018984151950425, 9.02017810451465)\n"
     ]
    }
   ],
   "source": [
    "confianza = 0.95\n",
    "sigma_est = sim_closes.iloc[-1].sem()\n",
    "mean_est = call.iloc[-1].Prima\n",
    "# i1 = st.t.interval(confianza,nscen-1, loc=mean_est, scale=sigma_est)\n",
    "i2 = st.norm.interval(confianza, loc=mean_est, scale=sigma_est)\n",
    "print(i2)"
   ]
  },
  {
   "cell_type": "markdown",
   "metadata": {},
   "source": [
    "## Histograma de rendimientos"
   ]
  },
  {
   "cell_type": "code",
   "execution_count": 19,
   "metadata": {},
   "outputs": [],
   "source": [
    "# Centro mis datos en mi tasa libre de riesgo\n",
    "freq, values = np.histogram(ret_msft-mu+r, bins=10000)\n",
    "\n",
    "prob = freq/np.sum(freq)"
   ]
  },
  {
   "cell_type": "code",
   "execution_count": 20,
   "metadata": {},
   "outputs": [],
   "source": [
    "# Datos de la opción y del día de actual\n",
    "today = pd.Timestamp(date.today())\n",
    "expiry = opcion.Expiry\n",
    "\n",
    "# Fechas desde el día de hoy hasta la fecha de cierre del contrato (considerando unicamente los días hábiles)\n",
    "dates = pd.date_range(start=today, end=expiry, freq='B')\n",
    "\n",
    "# Cantidad de escenarios a simular para el método de montecarlo\n",
    "ndays = len(dates)\n",
    "nscen = 10000\n",
    "\n",
    "K = opcion.Strike\n",
    "S0 = closes_msft.iloc[-1]\n",
    "\n",
    "ret = np.random.choice(values[1:], (ndays,nscen), p=prob)\n",
    "sim_ret_hist = pd.DataFrame(ret, index=dates)\n",
    "sim_closes_hist = S0*np.exp(sim_ret_hist.cumsum())"
   ]
  },
  {
   "cell_type": "code",
   "execution_count": 21,
   "metadata": {},
   "outputs": [
    {
     "data": {
      "image/png": "[encoded data removed]",
      "text/plain": [
       "<Figure size 432x288 with 1 Axes>"
      ]
     },
     "metadata": {
      "needs_background": "light"
     },
     "output_type": "display_data"
    }
   ],
   "source": [
    "strike = pd.DataFrame(K*np.ones([ndays,nscen]),index=dates)\n",
    "call_hist=pd.DataFrame({'Prima':np.exp(-r*ndays)*np.fmax(sim_closes_hist-strike,np.zeros([ndays,nscen])).T.mean()},index=dates)\n",
    "call_hist.plot();"
   ]
  },
  {
   "cell_type": "code",
   "execution_count": 22,
   "metadata": {},
   "outputs": [
    {
     "data": {
      "text/plain": [
       "Prima    8.298\n",
       "Name: 2021-06-18 00:00:00, dtype: float64"
      ]
     },
     "execution_count": 22,
     "metadata": {},
     "output_type": "execute_result"
    }
   ],
   "source": [
    "call_hist.iloc[-1]"
   ]
  },
  {
   "cell_type": "markdown",
   "metadata": {},
   "source": [
    "## Intervalos de confianza"
   ]
  },
  {
   "cell_type": "code",
   "execution_count": 23,
   "metadata": {},
   "outputs": [
    {
     "name": "stdout",
     "output_type": "stream",
     "text": [
      "(7.796978864660969, 8.798512636210337)\n"
     ]
    }
   ],
   "source": [
    "confianza = 0.95\n",
    "sigma_est = sim_closes_hist.iloc[-1].sem()\n",
    "mean_est = call_hist.iloc[-1].Prima\n",
    "# i1 = st.t.interval(confianza,nscen-1, loc=mean_est, scale=sigma_est)\n",
    "i2 = st.norm.interval(confianza, loc=mean_est, scale=sigma_est)\n",
    "print(i2)"
   ]
  },
  {
   "cell_type": "code",
   "execution_count": 24,
   "metadata": {},
   "outputs": [
    {
     "data": {
      "text/plain": [
       "4.75"
      ]
     },
     "execution_count": 24,
     "metadata": {},
     "output_type": "execute_result"
    }
   ],
   "source": [
    "opcion['JSON']['lastPrice']"
   ]
  },
  {
   "cell_type": "markdown",
   "metadata": {},
   "source": [
    "## Valuación de una opción call down and out"
   ]
  },
  {
   "cell_type": "markdown",
   "metadata": {},
   "source": [
    ">Como es un down la barrera debe estar abajo del spot price\n"
   ]
  },
  {
   "cell_type": "code",
   "execution_count": 25,
   "metadata": {},
   "outputs": [
    {
     "data": {
      "text/html": [
       "<div>\n",
       "<style scoped>\n",
       "    .dataframe tbody tr th:only-of-type {\n",
       "        vertical-align: middle;\n",
       "    }\n",
       "\n",
       "    .dataframe tbody tr th {\n",
       "        vertical-align: top;\n",
       "    }\n",
       "\n",
       "    .dataframe thead th {\n",
       "        text-align: right;\n",
       "    }\n",
       "</style>\n",
       "<table border=\"1\" class=\"dataframe\">\n",
       "  <thead>\n",
       "    <tr style=\"text-align: right;\">\n",
       "      <th></th>\n",
       "      <th>0</th>\n",
       "      <th>1</th>\n",
       "      <th>2</th>\n",
       "      <th>3</th>\n",
       "      <th>4</th>\n",
       "      <th>5</th>\n",
       "      <th>6</th>\n",
       "      <th>...</th>\n",
       "      <th>9993</th>\n",
       "      <th>9994</th>\n",
       "      <th>9995</th>\n",
       "      <th>9996</th>\n",
       "      <th>9997</th>\n",
       "      <th>9998</th>\n",
       "      <th>9999</th>\n",
       "    </tr>\n",
       "  </thead>\n",
       "  <tbody>\n",
       "    <tr>\n",
       "      <th>2021-05-06</th>\n",
       "      <td>True</td>\n",
       "      <td>True</td>\n",
       "      <td>False</td>\n",
       "      <td>True</td>\n",
       "      <td>True</td>\n",
       "      <td>True</td>\n",
       "      <td>True</td>\n",
       "      <td>...</td>\n",
       "      <td>True</td>\n",
       "      <td>True</td>\n",
       "      <td>True</td>\n",
       "      <td>True</td>\n",
       "      <td>False</td>\n",
       "      <td>True</td>\n",
       "      <td>True</td>\n",
       "    </tr>\n",
       "    <tr>\n",
       "      <th>2021-05-07</th>\n",
       "      <td>True</td>\n",
       "      <td>True</td>\n",
       "      <td>False</td>\n",
       "      <td>True</td>\n",
       "      <td>True</td>\n",
       "      <td>True</td>\n",
       "      <td>True</td>\n",
       "      <td>...</td>\n",
       "      <td>False</td>\n",
       "      <td>True</td>\n",
       "      <td>True</td>\n",
       "      <td>True</td>\n",
       "      <td>False</td>\n",
       "      <td>True</td>\n",
       "      <td>True</td>\n",
       "    </tr>\n",
       "    <tr>\n",
       "      <th>2021-05-10</th>\n",
       "      <td>True</td>\n",
       "      <td>True</td>\n",
       "      <td>False</td>\n",
       "      <td>True</td>\n",
       "      <td>True</td>\n",
       "      <td>True</td>\n",
       "      <td>True</td>\n",
       "      <td>...</td>\n",
       "      <td>False</td>\n",
       "      <td>True</td>\n",
       "      <td>True</td>\n",
       "      <td>True</td>\n",
       "      <td>False</td>\n",
       "      <td>True</td>\n",
       "      <td>True</td>\n",
       "    </tr>\n",
       "    <tr>\n",
       "      <th>2021-05-11</th>\n",
       "      <td>True</td>\n",
       "      <td>True</td>\n",
       "      <td>False</td>\n",
       "      <td>True</td>\n",
       "      <td>True</td>\n",
       "      <td>True</td>\n",
       "      <td>True</td>\n",
       "      <td>...</td>\n",
       "      <td>False</td>\n",
       "      <td>True</td>\n",
       "      <td>True</td>\n",
       "      <td>True</td>\n",
       "      <td>False</td>\n",
       "      <td>True</td>\n",
       "      <td>True</td>\n",
       "    </tr>\n",
       "    <tr>\n",
       "      <th>2021-05-12</th>\n",
       "      <td>True</td>\n",
       "      <td>True</td>\n",
       "      <td>False</td>\n",
       "      <td>False</td>\n",
       "      <td>True</td>\n",
       "      <td>True</td>\n",
       "      <td>True</td>\n",
       "      <td>...</td>\n",
       "      <td>False</td>\n",
       "      <td>True</td>\n",
       "      <td>True</td>\n",
       "      <td>True</td>\n",
       "      <td>False</td>\n",
       "      <td>True</td>\n",
       "      <td>True</td>\n",
       "    </tr>\n",
       "    <tr>\n",
       "      <th>...</th>\n",
       "      <td>...</td>\n",
       "      <td>...</td>\n",
       "      <td>...</td>\n",
       "      <td>...</td>\n",
       "      <td>...</td>\n",
       "      <td>...</td>\n",
       "      <td>...</td>\n",
       "      <td>...</td>\n",
       "      <td>...</td>\n",
       "      <td>...</td>\n",
       "      <td>...</td>\n",
       "      <td>...</td>\n",
       "      <td>...</td>\n",
       "      <td>...</td>\n",
       "      <td>...</td>\n",
       "    </tr>\n",
       "    <tr>\n",
       "      <th>2021-06-14</th>\n",
       "      <td>True</td>\n",
       "      <td>False</td>\n",
       "      <td>False</td>\n",
       "      <td>False</td>\n",
       "      <td>True</td>\n",
       "      <td>True</td>\n",
       "      <td>True</td>\n",
       "      <td>...</td>\n",
       "      <td>False</td>\n",
       "      <td>False</td>\n",
       "      <td>True</td>\n",
       "      <td>True</td>\n",
       "      <td>False</td>\n",
       "      <td>True</td>\n",
       "      <td>False</td>\n",
       "    </tr>\n",
       "    <tr>\n",
       "      <th>2021-06-15</th>\n",
       "      <td>True</td>\n",
       "      <td>False</td>\n",
       "      <td>False</td>\n",
       "      <td>False</td>\n",
       "      <td>True</td>\n",
       "      <td>True</td>\n",
       "      <td>True</td>\n",
       "      <td>...</td>\n",
       "      <td>False</td>\n",
       "      <td>False</td>\n",
       "      <td>True</td>\n",
       "      <td>False</td>\n",
       "      <td>False</td>\n",
       "      <td>True</td>\n",
       "      <td>False</td>\n",
       "    </tr>\n",
       "    <tr>\n",
       "      <th>2021-06-16</th>\n",
       "      <td>True</td>\n",
       "      <td>False</td>\n",
       "      <td>False</td>\n",
       "      <td>False</td>\n",
       "      <td>True</td>\n",
       "      <td>True</td>\n",
       "      <td>True</td>\n",
       "      <td>...</td>\n",
       "      <td>False</td>\n",
       "      <td>False</td>\n",
       "      <td>True</td>\n",
       "      <td>False</td>\n",
       "      <td>False</td>\n",
       "      <td>True</td>\n",
       "      <td>False</td>\n",
       "    </tr>\n",
       "    <tr>\n",
       "      <th>2021-06-17</th>\n",
       "      <td>True</td>\n",
       "      <td>False</td>\n",
       "      <td>False</td>\n",
       "      <td>False</td>\n",
       "      <td>True</td>\n",
       "      <td>True</td>\n",
       "      <td>True</td>\n",
       "      <td>...</td>\n",
       "      <td>False</td>\n",
       "      <td>False</td>\n",
       "      <td>True</td>\n",
       "      <td>False</td>\n",
       "      <td>False</td>\n",
       "      <td>True</td>\n",
       "      <td>False</td>\n",
       "    </tr>\n",
       "    <tr>\n",
       "      <th>2021-06-18</th>\n",
       "      <td>True</td>\n",
       "      <td>False</td>\n",
       "      <td>False</td>\n",
       "      <td>False</td>\n",
       "      <td>True</td>\n",
       "      <td>True</td>\n",
       "      <td>True</td>\n",
       "      <td>...</td>\n",
       "      <td>False</td>\n",
       "      <td>False</td>\n",
       "      <td>True</td>\n",
       "      <td>False</td>\n",
       "      <td>False</td>\n",
       "      <td>True</td>\n",
       "      <td>False</td>\n",
       "    </tr>\n",
       "  </tbody>\n",
       "</table>\n",
       "<p>32 rows × 10000 columns</p>\n",
       "</div>"
      ],
      "text/plain": [
       "            0      1      2      3     4     5     6     ...   9993   9994  \\\n",
       "2021-05-06  True   True  False   True  True  True  True  ...   True   True   \n",
       "2021-05-07  True   True  False   True  True  True  True  ...  False   True   \n",
       "2021-05-10  True   True  False   True  True  True  True  ...  False   True   \n",
       "2021-05-11  True   True  False   True  True  True  True  ...  False   True   \n",
       "2021-05-12  True   True  False  False  True  True  True  ...  False   True   \n",
       "...          ...    ...    ...    ...   ...   ...   ...  ...    ...    ...   \n",
       "2021-06-14  True  False  False  False  True  True  True  ...  False  False   \n",
       "2021-06-15  True  False  False  False  True  True  True  ...  False  False   \n",
       "2021-06-16  True  False  False  False  True  True  True  ...  False  False   \n",
       "2021-06-17  True  False  False  False  True  True  True  ...  False  False   \n",
       "2021-06-18  True  False  False  False  True  True  True  ...  False  False   \n",
       "\n",
       "            9995   9996   9997  9998   9999  \n",
       "2021-05-06  True   True  False  True   True  \n",
       "2021-05-07  True   True  False  True   True  \n",
       "2021-05-10  True   True  False  True   True  \n",
       "2021-05-11  True   True  False  True   True  \n",
       "2021-05-12  True   True  False  True   True  \n",
       "...          ...    ...    ...   ...    ...  \n",
       "2021-06-14  True   True  False  True  False  \n",
       "2021-06-15  True  False  False  True  False  \n",
       "2021-06-16  True  False  False  True  False  \n",
       "2021-06-17  True  False  False  True  False  \n",
       "2021-06-18  True  False  False  True  False  \n",
       "\n",
       "[32 rows x 10000 columns]"
      ]
     },
     "execution_count": 25,
     "metadata": {},
     "output_type": "execute_result"
    }
   ],
   "source": [
    "pd.set_option('display.max_columns',15)\n",
    "\n",
    "#Defino el precio de la barrera como\n",
    "\n",
    "B = 240\n",
    "\n",
    "# Función de desactivación knock out\n",
    "# Si en algún momento el precio toca la barrera la opción se desactiva\n",
    "I = (sim_closes > B).cumprod() > 0\n",
    "I"
   ]
  },
  {
   "cell_type": "markdown",
   "metadata": {},
   "source": [
    "## Valuación con rendimientos normales"
   ]
  },
  {
   "cell_type": "code",
   "execution_count": 26,
   "metadata": {},
   "outputs": [
    {
     "data": {
      "text/plain": [
       "(255.0, 249.73)"
      ]
     },
     "execution_count": 26,
     "metadata": {},
     "output_type": "execute_result"
    }
   ],
   "source": [
    "K = opcion.Strike\n",
    "S0 = opcion.Underlying_Price\n",
    "K,S0"
   ]
  },
  {
   "cell_type": "code",
   "execution_count": 27,
   "metadata": {},
   "outputs": [
    {
     "data": {
      "image/png": "[encoded data removed]",
      "text/plain": [
       "<Figure size 432x288 with 1 Axes>"
      ]
     },
     "metadata": {
      "needs_background": "light"
     },
     "output_type": "display_data"
    }
   ],
   "source": [
    "# Calcular la prima de una opción Europea\n",
    "call = pd.DataFrame({'Prima Europea':np.exp(-r*ndays)*np.fmax(sim_closes - strike, 0)\n",
    "                     .mean(axis=1)},index=dates)\n",
    "# Calcular la prima de una opción barrera\n",
    "callui = pd.DataFrame({'Prima down-and-out':np.exp(-r*ndays)*(I * np.fmax(sim_closes - strike, 0))\n",
    "                       .mean(axis=1)},index=dates)\n",
    "# Graficar el resultado de las dos primas previamente valuadas\n",
    "ax = callui.plot();\n",
    "call.plot(ax=ax);"
   ]
  },
  {
   "cell_type": "code",
   "execution_count": 28,
   "metadata": {},
   "outputs": [
    {
     "data": {
      "text/plain": [
       "Prima Europea    8.52\n",
       "Name: 2021-06-18 00:00:00, dtype: float64"
      ]
     },
     "execution_count": 28,
     "metadata": {},
     "output_type": "execute_result"
    }
   ],
   "source": [
    "call.iloc[-1]"
   ]
  },
  {
   "cell_type": "code",
   "execution_count": 29,
   "metadata": {},
   "outputs": [
    {
     "data": {
      "text/plain": [
       "Prima down-and-out    6.897\n",
       "Name: 2021-06-18 00:00:00, dtype: float64"
      ]
     },
     "execution_count": 29,
     "metadata": {},
     "output_type": "execute_result"
    }
   ],
   "source": [
    "callui.iloc[-1]"
   ]
  },
  {
   "cell_type": "markdown",
   "metadata": {},
   "source": [
    "## Valuación con el método del histograma"
   ]
  },
  {
   "cell_type": "code",
   "execution_count": 30,
   "metadata": {},
   "outputs": [],
   "source": [
    "# Centro mis datos en mi tasa libre de riesgo\n",
    "freq, values = np.histogram(ret_msft-mu+r, bins=10000)\n",
    "\n",
    "prob = freq/np.sum(freq)"
   ]
  },
  {
   "cell_type": "code",
   "execution_count": 31,
   "metadata": {},
   "outputs": [],
   "source": [
    "# Datos de la opción y del día de actual\n",
    "today = pd.Timestamp(date.today())\n",
    "expiry = opcion.Expiry\n",
    "\n",
    "# Fechas desde el día de hoy hasta la fecha de cierre del contrato (considerando unicamente los días hábiles)\n",
    "dates = pd.date_range(start=today, end=expiry, freq='B')\n",
    "\n",
    "# Cantidad de escenarios a simular para el método de montecarlo\n",
    "ndays = len(dates)\n",
    "nscen = 10000\n",
    "\n",
    "K = opcion.Strike\n",
    "S0 = closes_msft.iloc[-1]\n",
    "\n",
    "ret = np.random.choice(values[1:], (ndays,nscen), p=prob)\n",
    "sim_ret_hist = pd.DataFrame(ret, index=dates)\n",
    "sim_closes_hist = S0*np.exp(sim_ret_hist.cumsum())"
   ]
  },
  {
   "cell_type": "code",
   "execution_count": 32,
   "metadata": {},
   "outputs": [
    {
     "data": {
      "text/html": [
       "<div>\n",
       "<style scoped>\n",
       "    .dataframe tbody tr th:only-of-type {\n",
       "        vertical-align: middle;\n",
       "    }\n",
       "\n",
       "    .dataframe tbody tr th {\n",
       "        vertical-align: top;\n",
       "    }\n",
       "\n",
       "    .dataframe thead th {\n",
       "        text-align: right;\n",
       "    }\n",
       "</style>\n",
       "<table border=\"1\" class=\"dataframe\">\n",
       "  <thead>\n",
       "    <tr style=\"text-align: right;\">\n",
       "      <th></th>\n",
       "      <th>0</th>\n",
       "      <th>1</th>\n",
       "      <th>2</th>\n",
       "      <th>3</th>\n",
       "      <th>4</th>\n",
       "      <th>5</th>\n",
       "      <th>6</th>\n",
       "      <th>...</th>\n",
       "      <th>9993</th>\n",
       "      <th>9994</th>\n",
       "      <th>9995</th>\n",
       "      <th>9996</th>\n",
       "      <th>9997</th>\n",
       "      <th>9998</th>\n",
       "      <th>9999</th>\n",
       "    </tr>\n",
       "  </thead>\n",
       "  <tbody>\n",
       "    <tr>\n",
       "      <th>2021-05-06</th>\n",
       "      <td>True</td>\n",
       "      <td>True</td>\n",
       "      <td>True</td>\n",
       "      <td>True</td>\n",
       "      <td>True</td>\n",
       "      <td>True</td>\n",
       "      <td>True</td>\n",
       "      <td>...</td>\n",
       "      <td>True</td>\n",
       "      <td>True</td>\n",
       "      <td>True</td>\n",
       "      <td>True</td>\n",
       "      <td>True</td>\n",
       "      <td>True</td>\n",
       "      <td>True</td>\n",
       "    </tr>\n",
       "    <tr>\n",
       "      <th>2021-05-07</th>\n",
       "      <td>True</td>\n",
       "      <td>True</td>\n",
       "      <td>True</td>\n",
       "      <td>True</td>\n",
       "      <td>True</td>\n",
       "      <td>True</td>\n",
       "      <td>True</td>\n",
       "      <td>...</td>\n",
       "      <td>True</td>\n",
       "      <td>True</td>\n",
       "      <td>True</td>\n",
       "      <td>True</td>\n",
       "      <td>True</td>\n",
       "      <td>True</td>\n",
       "      <td>True</td>\n",
       "    </tr>\n",
       "    <tr>\n",
       "      <th>2021-05-10</th>\n",
       "      <td>True</td>\n",
       "      <td>True</td>\n",
       "      <td>True</td>\n",
       "      <td>True</td>\n",
       "      <td>True</td>\n",
       "      <td>True</td>\n",
       "      <td>True</td>\n",
       "      <td>...</td>\n",
       "      <td>True</td>\n",
       "      <td>True</td>\n",
       "      <td>True</td>\n",
       "      <td>True</td>\n",
       "      <td>True</td>\n",
       "      <td>True</td>\n",
       "      <td>True</td>\n",
       "    </tr>\n",
       "    <tr>\n",
       "      <th>2021-05-11</th>\n",
       "      <td>True</td>\n",
       "      <td>True</td>\n",
       "      <td>True</td>\n",
       "      <td>True</td>\n",
       "      <td>True</td>\n",
       "      <td>True</td>\n",
       "      <td>True</td>\n",
       "      <td>...</td>\n",
       "      <td>True</td>\n",
       "      <td>True</td>\n",
       "      <td>True</td>\n",
       "      <td>True</td>\n",
       "      <td>True</td>\n",
       "      <td>True</td>\n",
       "      <td>True</td>\n",
       "    </tr>\n",
       "    <tr>\n",
       "      <th>2021-05-12</th>\n",
       "      <td>True</td>\n",
       "      <td>True</td>\n",
       "      <td>True</td>\n",
       "      <td>True</td>\n",
       "      <td>True</td>\n",
       "      <td>True</td>\n",
       "      <td>True</td>\n",
       "      <td>...</td>\n",
       "      <td>True</td>\n",
       "      <td>True</td>\n",
       "      <td>True</td>\n",
       "      <td>True</td>\n",
       "      <td>True</td>\n",
       "      <td>True</td>\n",
       "      <td>True</td>\n",
       "    </tr>\n",
       "    <tr>\n",
       "      <th>...</th>\n",
       "      <td>...</td>\n",
       "      <td>...</td>\n",
       "      <td>...</td>\n",
       "      <td>...</td>\n",
       "      <td>...</td>\n",
       "      <td>...</td>\n",
       "      <td>...</td>\n",
       "      <td>...</td>\n",
       "      <td>...</td>\n",
       "      <td>...</td>\n",
       "      <td>...</td>\n",
       "      <td>...</td>\n",
       "      <td>...</td>\n",
       "      <td>...</td>\n",
       "      <td>...</td>\n",
       "    </tr>\n",
       "    <tr>\n",
       "      <th>2021-06-14</th>\n",
       "      <td>False</td>\n",
       "      <td>False</td>\n",
       "      <td>True</td>\n",
       "      <td>False</td>\n",
       "      <td>True</td>\n",
       "      <td>False</td>\n",
       "      <td>True</td>\n",
       "      <td>...</td>\n",
       "      <td>True</td>\n",
       "      <td>True</td>\n",
       "      <td>True</td>\n",
       "      <td>False</td>\n",
       "      <td>True</td>\n",
       "      <td>True</td>\n",
       "      <td>False</td>\n",
       "    </tr>\n",
       "    <tr>\n",
       "      <th>2021-06-15</th>\n",
       "      <td>False</td>\n",
       "      <td>False</td>\n",
       "      <td>True</td>\n",
       "      <td>False</td>\n",
       "      <td>True</td>\n",
       "      <td>False</td>\n",
       "      <td>True</td>\n",
       "      <td>...</td>\n",
       "      <td>True</td>\n",
       "      <td>True</td>\n",
       "      <td>True</td>\n",
       "      <td>False</td>\n",
       "      <td>True</td>\n",
       "      <td>True</td>\n",
       "      <td>False</td>\n",
       "    </tr>\n",
       "    <tr>\n",
       "      <th>2021-06-16</th>\n",
       "      <td>False</td>\n",
       "      <td>False</td>\n",
       "      <td>True</td>\n",
       "      <td>False</td>\n",
       "      <td>True</td>\n",
       "      <td>False</td>\n",
       "      <td>True</td>\n",
       "      <td>...</td>\n",
       "      <td>True</td>\n",
       "      <td>True</td>\n",
       "      <td>True</td>\n",
       "      <td>False</td>\n",
       "      <td>True</td>\n",
       "      <td>False</td>\n",
       "      <td>False</td>\n",
       "    </tr>\n",
       "    <tr>\n",
       "      <th>2021-06-17</th>\n",
       "      <td>False</td>\n",
       "      <td>False</td>\n",
       "      <td>True</td>\n",
       "      <td>False</td>\n",
       "      <td>True</td>\n",
       "      <td>False</td>\n",
       "      <td>True</td>\n",
       "      <td>...</td>\n",
       "      <td>True</td>\n",
       "      <td>True</td>\n",
       "      <td>True</td>\n",
       "      <td>False</td>\n",
       "      <td>True</td>\n",
       "      <td>False</td>\n",
       "      <td>False</td>\n",
       "    </tr>\n",
       "    <tr>\n",
       "      <th>2021-06-18</th>\n",
       "      <td>False</td>\n",
       "      <td>False</td>\n",
       "      <td>True</td>\n",
       "      <td>False</td>\n",
       "      <td>True</td>\n",
       "      <td>False</td>\n",
       "      <td>True</td>\n",
       "      <td>...</td>\n",
       "      <td>True</td>\n",
       "      <td>True</td>\n",
       "      <td>True</td>\n",
       "      <td>False</td>\n",
       "      <td>True</td>\n",
       "      <td>False</td>\n",
       "      <td>False</td>\n",
       "    </tr>\n",
       "  </tbody>\n",
       "</table>\n",
       "<p>32 rows × 10000 columns</p>\n",
       "</div>"
      ],
      "text/plain": [
       "             0      1     2      3     4      5     6     ...  9993  9994  \\\n",
       "2021-05-06   True   True  True   True  True   True  True  ...  True  True   \n",
       "2021-05-07   True   True  True   True  True   True  True  ...  True  True   \n",
       "2021-05-10   True   True  True   True  True   True  True  ...  True  True   \n",
       "2021-05-11   True   True  True   True  True   True  True  ...  True  True   \n",
       "2021-05-12   True   True  True   True  True   True  True  ...  True  True   \n",
       "...           ...    ...   ...    ...   ...    ...   ...  ...   ...   ...   \n",
       "2021-06-14  False  False  True  False  True  False  True  ...  True  True   \n",
       "2021-06-15  False  False  True  False  True  False  True  ...  True  True   \n",
       "2021-06-16  False  False  True  False  True  False  True  ...  True  True   \n",
       "2021-06-17  False  False  True  False  True  False  True  ...  True  True   \n",
       "2021-06-18  False  False  True  False  True  False  True  ...  True  True   \n",
       "\n",
       "            9995   9996  9997   9998   9999  \n",
       "2021-05-06  True   True  True   True   True  \n",
       "2021-05-07  True   True  True   True   True  \n",
       "2021-05-10  True   True  True   True   True  \n",
       "2021-05-11  True   True  True   True   True  \n",
       "2021-05-12  True   True  True   True   True  \n",
       "...          ...    ...   ...    ...    ...  \n",
       "2021-06-14  True  False  True   True  False  \n",
       "2021-06-15  True  False  True   True  False  \n",
       "2021-06-16  True  False  True  False  False  \n",
       "2021-06-17  True  False  True  False  False  \n",
       "2021-06-18  True  False  True  False  False  \n",
       "\n",
       "[32 rows x 10000 columns]"
      ]
     },
     "execution_count": 32,
     "metadata": {},
     "output_type": "execute_result"
    }
   ],
   "source": [
    "pd.set_option('display.max_columns',15)\n",
    "\n",
    "#Defino el precio de la barrera como\n",
    "\n",
    "B = 240\n",
    "\n",
    "# Función de desactivación knock out\n",
    "# Si en algún momento el precio toca la barrera la opción se desactiva\n",
    "I = (sim_closes_hist > B).cumprod() > 0\n",
    "I"
   ]
  },
  {
   "cell_type": "code",
   "execution_count": 33,
   "metadata": {},
   "outputs": [
    {
     "data": {
      "image/png": "[encoded data removed]",
      "text/plain": [
       "<Figure size 432x288 with 1 Axes>"
      ]
     },
     "metadata": {
      "needs_background": "light"
     },
     "output_type": "display_data"
    }
   ],
   "source": [
    "# Calcular la prima de una opción Europea\n",
    "call = pd.DataFrame({'Prima Europea':np.exp(-r*ndays)*np.fmax(sim_closes_hist-strike, 0)\n",
    "                     .mean(axis=1)},index=dates)\n",
    "# Calcular la prima de una opción barrera\n",
    "callui = pd.DataFrame({'Prima down-and-out':np.exp(-r*ndays)*(I * np.fmax(sim_closes_hist-strike, 0))\n",
    "                       .mean(axis=1)},index=dates)\n",
    "# Graficar el resultado de las dos primas previamente valuadas\n",
    "ax = callui.plot();\n",
    "call.plot(ax=ax);"
   ]
  },
  {
   "cell_type": "code",
   "execution_count": 34,
   "metadata": {},
   "outputs": [
    {
     "data": {
      "text/plain": [
       "Prima down-and-out    7.202\n",
       "Name: 2021-06-18 00:00:00, dtype: float64"
      ]
     },
     "execution_count": 34,
     "metadata": {},
     "output_type": "execute_result"
    }
   ],
   "source": [
    "callui.iloc[-1]"
   ]
  },
  {
   "cell_type": "code",
   "execution_count": 35,
   "metadata": {},
   "outputs": [
    {
     "data": {
      "text/plain": [
       "Prima Europea    8.445\n",
       "Name: 2021-06-18 00:00:00, dtype: float64"
      ]
     },
     "execution_count": 35,
     "metadata": {},
     "output_type": "execute_result"
    }
   ],
   "source": [
    "call.iloc[-1]"
   ]
  },
  {
   "cell_type": "markdown",
   "metadata": {},
   "source": [
    "## Valuación de una put como una Europea"
   ]
  },
  {
   "cell_type": "code",
   "execution_count": 36,
   "metadata": {},
   "outputs": [
    {
     "data": {
      "text/html": [
       "<div>\n",
       "<style scoped>\n",
       "    .dataframe tbody tr th:only-of-type {\n",
       "        vertical-align: middle;\n",
       "    }\n",
       "\n",
       "    .dataframe tbody tr th {\n",
       "        vertical-align: top;\n",
       "    }\n",
       "\n",
       "    .dataframe thead th {\n",
       "        text-align: right;\n",
       "    }\n",
       "</style>\n",
       "<table border=\"1\" class=\"dataframe\">\n",
       "  <thead>\n",
       "    <tr style=\"text-align: right;\">\n",
       "      <th></th>\n",
       "      <th>Strike</th>\n",
       "      <th>Expiry</th>\n",
       "      <th>Type</th>\n",
       "      <th>Symbol</th>\n",
       "      <th>Last</th>\n",
       "      <th>Bid</th>\n",
       "      <th>Ask</th>\n",
       "      <th>...</th>\n",
       "      <th>Root</th>\n",
       "      <th>IsNonstandard</th>\n",
       "      <th>Underlying</th>\n",
       "      <th>Underlying_Price</th>\n",
       "      <th>Quote_Time</th>\n",
       "      <th>Last_Trade_Date</th>\n",
       "      <th>JSON</th>\n",
       "    </tr>\n",
       "  </thead>\n",
       "  <tbody>\n",
       "    <tr>\n",
       "      <th>1</th>\n",
       "      <td>65.0</td>\n",
       "      <td>2021-06-18</td>\n",
       "      <td>put</td>\n",
       "      <td>MSFT210618P00065000</td>\n",
       "      <td>0.01</td>\n",
       "      <td>0.00</td>\n",
       "      <td>0.01</td>\n",
       "      <td>...</td>\n",
       "      <td>MSFT</td>\n",
       "      <td>False</td>\n",
       "      <td>MSFT</td>\n",
       "      <td>249.73</td>\n",
       "      <td>2021-05-06 20:00:02</td>\n",
       "      <td>2021-04-30 16:16:58</td>\n",
       "      <td>{'contractSymbol': 'MSFT210618P00065000', 'str...</td>\n",
       "    </tr>\n",
       "    <tr>\n",
       "      <th>3</th>\n",
       "      <td>70.0</td>\n",
       "      <td>2021-06-18</td>\n",
       "      <td>put</td>\n",
       "      <td>MSFT210618P00070000</td>\n",
       "      <td>0.01</td>\n",
       "      <td>0.00</td>\n",
       "      <td>0.01</td>\n",
       "      <td>...</td>\n",
       "      <td>MSFT</td>\n",
       "      <td>False</td>\n",
       "      <td>MSFT</td>\n",
       "      <td>249.73</td>\n",
       "      <td>2021-05-06 20:00:02</td>\n",
       "      <td>2021-04-23 16:08:57</td>\n",
       "      <td>{'contractSymbol': 'MSFT210618P00070000', 'str...</td>\n",
       "    </tr>\n",
       "    <tr>\n",
       "      <th>7</th>\n",
       "      <td>75.0</td>\n",
       "      <td>2021-06-18</td>\n",
       "      <td>put</td>\n",
       "      <td>MSFT210618P00075000</td>\n",
       "      <td>0.04</td>\n",
       "      <td>0.00</td>\n",
       "      <td>0.03</td>\n",
       "      <td>...</td>\n",
       "      <td>MSFT</td>\n",
       "      <td>False</td>\n",
       "      <td>MSFT</td>\n",
       "      <td>249.73</td>\n",
       "      <td>2021-05-06 20:00:02</td>\n",
       "      <td>2021-04-28 19:15:33</td>\n",
       "      <td>{'contractSymbol': 'MSFT210618P00075000', 'str...</td>\n",
       "    </tr>\n",
       "    <tr>\n",
       "      <th>11</th>\n",
       "      <td>80.0</td>\n",
       "      <td>2021-06-18</td>\n",
       "      <td>put</td>\n",
       "      <td>MSFT210618P00080000</td>\n",
       "      <td>0.02</td>\n",
       "      <td>0.00</td>\n",
       "      <td>0.02</td>\n",
       "      <td>...</td>\n",
       "      <td>MSFT</td>\n",
       "      <td>False</td>\n",
       "      <td>MSFT</td>\n",
       "      <td>249.73</td>\n",
       "      <td>2021-05-06 20:00:02</td>\n",
       "      <td>2021-05-04 18:05:57</td>\n",
       "      <td>{'contractSymbol': 'MSFT210618P00080000', 'str...</td>\n",
       "    </tr>\n",
       "    <tr>\n",
       "      <th>21</th>\n",
       "      <td>85.0</td>\n",
       "      <td>2021-06-18</td>\n",
       "      <td>put</td>\n",
       "      <td>MSFT210618P00085000</td>\n",
       "      <td>0.04</td>\n",
       "      <td>0.00</td>\n",
       "      <td>0.05</td>\n",
       "      <td>...</td>\n",
       "      <td>MSFT</td>\n",
       "      <td>False</td>\n",
       "      <td>MSFT</td>\n",
       "      <td>249.73</td>\n",
       "      <td>2021-05-06 20:00:02</td>\n",
       "      <td>2021-04-09 16:02:14</td>\n",
       "      <td>{'contractSymbol': 'MSFT210618P00085000', 'str...</td>\n",
       "    </tr>\n",
       "    <tr>\n",
       "      <th>...</th>\n",
       "      <td>...</td>\n",
       "      <td>...</td>\n",
       "      <td>...</td>\n",
       "      <td>...</td>\n",
       "      <td>...</td>\n",
       "      <td>...</td>\n",
       "      <td>...</td>\n",
       "      <td>...</td>\n",
       "      <td>...</td>\n",
       "      <td>...</td>\n",
       "      <td>...</td>\n",
       "      <td>...</td>\n",
       "      <td>...</td>\n",
       "      <td>...</td>\n",
       "      <td>...</td>\n",
       "    </tr>\n",
       "    <tr>\n",
       "      <th>1657</th>\n",
       "      <td>335.0</td>\n",
       "      <td>2021-06-18</td>\n",
       "      <td>put</td>\n",
       "      <td>MSFT210618P00335000</td>\n",
       "      <td>81.15</td>\n",
       "      <td>84.70</td>\n",
       "      <td>87.65</td>\n",
       "      <td>...</td>\n",
       "      <td>MSFT</td>\n",
       "      <td>False</td>\n",
       "      <td>MSFT</td>\n",
       "      <td>249.73</td>\n",
       "      <td>2021-05-06 20:00:02</td>\n",
       "      <td>2021-04-28 18:12:15</td>\n",
       "      <td>{'contractSymbol': 'MSFT210618P00335000', 'str...</td>\n",
       "    </tr>\n",
       "    <tr>\n",
       "      <th>1681</th>\n",
       "      <td>340.0</td>\n",
       "      <td>2021-06-18</td>\n",
       "      <td>put</td>\n",
       "      <td>MSFT210618P00340000</td>\n",
       "      <td>87.90</td>\n",
       "      <td>89.65</td>\n",
       "      <td>92.65</td>\n",
       "      <td>...</td>\n",
       "      <td>MSFT</td>\n",
       "      <td>False</td>\n",
       "      <td>MSFT</td>\n",
       "      <td>249.73</td>\n",
       "      <td>2021-05-06 20:00:02</td>\n",
       "      <td>2021-04-09 13:41:03</td>\n",
       "      <td>{'contractSymbol': 'MSFT210618P00340000', 'str...</td>\n",
       "    </tr>\n",
       "    <tr>\n",
       "      <th>1706</th>\n",
       "      <td>345.0</td>\n",
       "      <td>2021-06-18</td>\n",
       "      <td>put</td>\n",
       "      <td>MSFT210618P00345000</td>\n",
       "      <td>91.05</td>\n",
       "      <td>94.55</td>\n",
       "      <td>96.90</td>\n",
       "      <td>...</td>\n",
       "      <td>MSFT</td>\n",
       "      <td>False</td>\n",
       "      <td>MSFT</td>\n",
       "      <td>249.73</td>\n",
       "      <td>2021-05-06 20:00:02</td>\n",
       "      <td>2021-04-28 17:36:42</td>\n",
       "      <td>{'contractSymbol': 'MSFT210618P00345000', 'str...</td>\n",
       "    </tr>\n",
       "    <tr>\n",
       "      <th>1728</th>\n",
       "      <td>350.0</td>\n",
       "      <td>2021-06-18</td>\n",
       "      <td>put</td>\n",
       "      <td>MSFT210618P00350000</td>\n",
       "      <td>96.19</td>\n",
       "      <td>98.85</td>\n",
       "      <td>102.65</td>\n",
       "      <td>...</td>\n",
       "      <td>MSFT</td>\n",
       "      <td>False</td>\n",
       "      <td>MSFT</td>\n",
       "      <td>249.73</td>\n",
       "      <td>2021-05-06 20:00:02</td>\n",
       "      <td>2021-04-28 18:04:16</td>\n",
       "      <td>{'contractSymbol': 'MSFT210618P00350000', 'str...</td>\n",
       "    </tr>\n",
       "    <tr>\n",
       "      <th>1770</th>\n",
       "      <td>360.0</td>\n",
       "      <td>2021-06-18</td>\n",
       "      <td>put</td>\n",
       "      <td>MSFT210618P00360000</td>\n",
       "      <td>108.87</td>\n",
       "      <td>109.55</td>\n",
       "      <td>111.90</td>\n",
       "      <td>...</td>\n",
       "      <td>MSFT</td>\n",
       "      <td>False</td>\n",
       "      <td>MSFT</td>\n",
       "      <td>249.73</td>\n",
       "      <td>2021-05-06 20:00:02</td>\n",
       "      <td>2021-05-03 18:12:12</td>\n",
       "      <td>{'contractSymbol': 'MSFT210618P00360000', 'str...</td>\n",
       "    </tr>\n",
       "  </tbody>\n",
       "</table>\n",
       "<p>59 rows × 19 columns</p>\n",
       "</div>"
      ],
      "text/plain": [
       "      Strike     Expiry Type               Symbol    Last     Bid     Ask  \\\n",
       "1       65.0 2021-06-18  put  MSFT210618P00065000    0.01    0.00    0.01   \n",
       "3       70.0 2021-06-18  put  MSFT210618P00070000    0.01    0.00    0.01   \n",
       "7       75.0 2021-06-18  put  MSFT210618P00075000    0.04    0.00    0.03   \n",
       "11      80.0 2021-06-18  put  MSFT210618P00080000    0.02    0.00    0.02   \n",
       "21      85.0 2021-06-18  put  MSFT210618P00085000    0.04    0.00    0.05   \n",
       "...      ...        ...  ...                  ...     ...     ...     ...   \n",
       "1657   335.0 2021-06-18  put  MSFT210618P00335000   81.15   84.70   87.65   \n",
       "1681   340.0 2021-06-18  put  MSFT210618P00340000   87.90   89.65   92.65   \n",
       "1706   345.0 2021-06-18  put  MSFT210618P00345000   91.05   94.55   96.90   \n",
       "1728   350.0 2021-06-18  put  MSFT210618P00350000   96.19   98.85  102.65   \n",
       "1770   360.0 2021-06-18  put  MSFT210618P00360000  108.87  109.55  111.90   \n",
       "\n",
       "      ...  Root  IsNonstandard  Underlying  Underlying_Price  \\\n",
       "1     ...  MSFT          False        MSFT            249.73   \n",
       "3     ...  MSFT          False        MSFT            249.73   \n",
       "7     ...  MSFT          False        MSFT            249.73   \n",
       "11    ...  MSFT          False        MSFT            249.73   \n",
       "21    ...  MSFT          False        MSFT            249.73   \n",
       "...   ...   ...            ...         ...               ...   \n",
       "1657  ...  MSFT          False        MSFT            249.73   \n",
       "1681  ...  MSFT          False        MSFT            249.73   \n",
       "1706  ...  MSFT          False        MSFT            249.73   \n",
       "1728  ...  MSFT          False        MSFT            249.73   \n",
       "1770  ...  MSFT          False        MSFT            249.73   \n",
       "\n",
       "              Quote_Time     Last_Trade_Date  \\\n",
       "1    2021-05-06 20:00:02 2021-04-30 16:16:58   \n",
       "3    2021-05-06 20:00:02 2021-04-23 16:08:57   \n",
       "7    2021-05-06 20:00:02 2021-04-28 19:15:33   \n",
       "11   2021-05-06 20:00:02 2021-05-04 18:05:57   \n",
       "21   2021-05-06 20:00:02 2021-04-09 16:02:14   \n",
       "...                  ...                 ...   \n",
       "1657 2021-05-06 20:00:02 2021-04-28 18:12:15   \n",
       "1681 2021-05-06 20:00:02 2021-04-09 13:41:03   \n",
       "1706 2021-05-06 20:00:02 2021-04-28 17:36:42   \n",
       "1728 2021-05-06 20:00:02 2021-04-28 18:04:16   \n",
       "1770 2021-05-06 20:00:02 2021-05-03 18:12:12   \n",
       "\n",
       "                                                   JSON  \n",
       "1     {'contractSymbol': 'MSFT210618P00065000', 'str...  \n",
       "3     {'contractSymbol': 'MSFT210618P00070000', 'str...  \n",
       "7     {'contractSymbol': 'MSFT210618P00075000', 'str...  \n",
       "11    {'contractSymbol': 'MSFT210618P00080000', 'str...  \n",
       "21    {'contractSymbol': 'MSFT210618P00085000', 'str...  \n",
       "...                                                 ...  \n",
       "1657  {'contractSymbol': 'MSFT210618P00335000', 'str...  \n",
       "1681  {'contractSymbol': 'MSFT210618P00340000', 'str...  \n",
       "1706  {'contractSymbol': 'MSFT210618P00345000', 'str...  \n",
       "1728  {'contractSymbol': 'MSFT210618P00350000', 'str...  \n",
       "1770  {'contractSymbol': 'MSFT210618P00360000', 'str...  \n",
       "\n",
       "[59 rows x 19 columns]"
      ]
     },
     "execution_count": 36,
     "metadata": {},
     "output_type": "execute_result"
    }
   ],
   "source": [
    "opt_put = msft_opt.loc[(msft_opt.Type=='put') & (msft_opt.Expiry==fecha)]\n",
    "opt_put\n"
   ]
  },
  {
   "cell_type": "markdown",
   "metadata": {},
   "source": [
    "## Sonrisa de volatilidad"
   ]
  },
  {
   "cell_type": "code",
   "execution_count": 37,
   "metadata": {},
   "outputs": [
    {
     "data": {
      "text/plain": [
       "<matplotlib.lines.Line2D at 0x15ccf023640>"
      ]
     },
     "execution_count": 37,
     "metadata": {},
     "output_type": "execute_result"
    },
    {
     "data": {
      "image/png": "[encoded data removed]",
      "text/plain": [
       "<Figure size 576x432 with 1 Axes>"
      ]
     },
     "metadata": {
      "needs_background": "light"
     },
     "output_type": "display_data"
    }
   ],
   "source": [
    "smile = opt_put.set_index('Strike').loc[:,'IV'].plot(figsize=[8,6])\n",
    "smile.axvline(opt_put.Underlying_Price.iloc[0],color='m')"
   ]
  },
  {
   "cell_type": "code",
   "execution_count": 38,
   "metadata": {},
   "outputs": [],
   "source": [
    "#strike elegido\n",
    "K = 230"
   ]
  },
  {
   "cell_type": "code",
   "execution_count": 39,
   "metadata": {},
   "outputs": [
    {
     "data": {
      "text/html": [
       "<div>\n",
       "<style scoped>\n",
       "    .dataframe tbody tr th:only-of-type {\n",
       "        vertical-align: middle;\n",
       "    }\n",
       "\n",
       "    .dataframe tbody tr th {\n",
       "        vertical-align: top;\n",
       "    }\n",
       "\n",
       "    .dataframe thead th {\n",
       "        text-align: right;\n",
       "    }\n",
       "</style>\n",
       "<table border=\"1\" class=\"dataframe\">\n",
       "  <thead>\n",
       "    <tr style=\"text-align: right;\">\n",
       "      <th></th>\n",
       "      <th>Strike</th>\n",
       "      <th>Expiry</th>\n",
       "      <th>Type</th>\n",
       "      <th>Symbol</th>\n",
       "      <th>Last</th>\n",
       "      <th>Bid</th>\n",
       "      <th>Ask</th>\n",
       "      <th>...</th>\n",
       "      <th>Root</th>\n",
       "      <th>IsNonstandard</th>\n",
       "      <th>Underlying</th>\n",
       "      <th>Underlying_Price</th>\n",
       "      <th>Quote_Time</th>\n",
       "      <th>Last_Trade_Date</th>\n",
       "      <th>JSON</th>\n",
       "    </tr>\n",
       "  </thead>\n",
       "  <tbody>\n",
       "    <tr>\n",
       "      <th>844</th>\n",
       "      <td>230.0</td>\n",
       "      <td>2021-06-18</td>\n",
       "      <td>put</td>\n",
       "      <td>MSFT210618P00230000</td>\n",
       "      <td>2.27</td>\n",
       "      <td>1.89</td>\n",
       "      <td>2.3</td>\n",
       "      <td>...</td>\n",
       "      <td>MSFT</td>\n",
       "      <td>False</td>\n",
       "      <td>MSFT</td>\n",
       "      <td>249.73</td>\n",
       "      <td>2021-05-06 20:00:02</td>\n",
       "      <td>2021-05-06 19:46:42</td>\n",
       "      <td>{'contractSymbol': 'MSFT210618P00230000', 'str...</td>\n",
       "    </tr>\n",
       "  </tbody>\n",
       "</table>\n",
       "<p>1 rows × 19 columns</p>\n",
       "</div>"
      ],
      "text/plain": [
       "     Strike     Expiry Type               Symbol  Last   Bid  Ask  ...  \\\n",
       "844   230.0 2021-06-18  put  MSFT210618P00230000  2.27  1.89  2.3  ...   \n",
       "\n",
       "     Root  IsNonstandard  Underlying  Underlying_Price          Quote_Time  \\\n",
       "844  MSFT          False        MSFT            249.73 2021-05-06 20:00:02   \n",
       "\n",
       "        Last_Trade_Date                                               JSON  \n",
       "844 2021-05-06 19:46:42  {'contractSymbol': 'MSFT210618P00230000', 'str...  \n",
       "\n",
       "[1 rows x 19 columns]"
      ]
     },
     "execution_count": 39,
     "metadata": {},
     "output_type": "execute_result"
    }
   ],
   "source": [
    "opt = opt_put.loc[(opt_put.Strike==K) & (opt_put.Expiry==fecha)]\n",
    "opt"
   ]
  },
  {
   "cell_type": "code",
   "execution_count": 40,
   "metadata": {},
   "outputs": [
    {
     "data": {
      "text/plain": [
       "{'contractSymbol': 'MSFT210618P00230000',\n",
       " 'strike': 230.0,\n",
       " 'currency': 'USD',\n",
       " 'lastPrice': 2.27,\n",
       " 'change': -0.26,\n",
       " 'percentChange': -10.27668,\n",
       " 'volume': 992,\n",
       " 'openInterest': 15095,\n",
       " 'bid': 1.89,\n",
       " 'ask': 2.3,\n",
       " 'contractSize': 'REGULAR',\n",
       " 'expiration': 1623974400,\n",
       " 'lastTradeDate': 1620330402,\n",
       " 'impliedVolatility': 0.2710033837890625,\n",
       " 'inTheMoney': False}"
      ]
     },
     "execution_count": 40,
     "metadata": {},
     "output_type": "execute_result"
    }
   ],
   "source": [
    "i_opt = opt.index\n",
    "opcion = msft_opt.loc[i_opt[0]]\n",
    "opcion['JSON']"
   ]
  },
  {
   "cell_type": "markdown",
   "metadata": {},
   "source": [
    "## Modelo normal de rendimientos"
   ]
  },
  {
   "cell_type": "code",
   "execution_count": 41,
   "metadata": {},
   "outputs": [],
   "source": [
    "from datetime import date\n",
    "\n",
    "# Datos de la opción y del día de actual\n",
    "today = pd.Timestamp(date.today())\n",
    "expiry = opcion.Expiry\n",
    "\n",
    "# Fechas desde el día de hoy hasta la fecha de cierre del contrato (considerando unicamente los días hábiles)\n",
    "dates = pd.date_range(start=today, end=expiry, freq='B')\n",
    "\n",
    "# Cantidad de escenarios a simular para el método de montecarlo\n",
    "ndays = len(dates)\n",
    "nscen = 10000\n",
    "\n",
    "K = opcion.Strike\n",
    "S0 = closes_msft.iloc[-1]\n",
    "sim_ret = pd.DataFrame(sigma*np.random.randn(ndays,nscen)+r,index=dates)\n",
    "sim_closes = S0*np.exp(sim_ret.cumsum())"
   ]
  },
  {
   "cell_type": "code",
   "execution_count": 42,
   "metadata": {},
   "outputs": [
    {
     "data": {
      "image/png": "[encoded data removed]",
      "text/plain": [
       "<Figure size 432x288 with 1 Axes>"
      ]
     },
     "metadata": {
      "needs_background": "light"
     },
     "output_type": "display_data"
    }
   ],
   "source": [
    "strike = pd.DataFrame(K*np.ones([ndays,nscen]),index=dates)\n",
    "put=pd.DataFrame({'Prima':np.exp(-r*ndays)*np.fmax(strike-sim_closes,np.zeros([ndays,nscen])).T.mean()},index=dates)\n",
    "put.plot();"
   ]
  },
  {
   "cell_type": "code",
   "execution_count": 43,
   "metadata": {},
   "outputs": [
    {
     "data": {
      "text/plain": [
       "Prima    2.728\n",
       "Name: 2021-06-18 00:00:00, dtype: float64"
      ]
     },
     "execution_count": 43,
     "metadata": {},
     "output_type": "execute_result"
    }
   ],
   "source": [
    "put.iloc[-1]"
   ]
  },
  {
   "cell_type": "code",
   "execution_count": 44,
   "metadata": {},
   "outputs": [
    {
     "data": {
      "text/plain": [
       "2.27"
      ]
     },
     "execution_count": 44,
     "metadata": {},
     "output_type": "execute_result"
    }
   ],
   "source": [
    "opcion['JSON']['lastPrice']"
   ]
  },
  {
   "cell_type": "markdown",
   "metadata": {},
   "source": [
    "## Intervalos de confianza"
   ]
  },
  {
   "cell_type": "code",
   "execution_count": 45,
   "metadata": {},
   "outputs": [
    {
     "name": "stdout",
     "output_type": "stream",
     "text": [
      "(2.2215827781646733, 3.2349539265355607)\n"
     ]
    }
   ],
   "source": [
    "confianza = 0.95\n",
    "sigma_est = sim_closes.iloc[-1].sem()\n",
    "mean_est = put.iloc[-1].Prima\n",
    "# i1 = st.t.interval(confianza,nscen-1, loc=mean_est, scale=sigma_est)\n",
    "i2 = st.norm.interval(confianza, loc=mean_est, scale=sigma_est)\n",
    "print(i2)"
   ]
  },
  {
   "cell_type": "markdown",
   "metadata": {},
   "source": [
    "## Histograma de rendimientos"
   ]
  },
  {
   "cell_type": "code",
   "execution_count": 46,
   "metadata": {},
   "outputs": [],
   "source": [
    "# Centro mis datos en mi tasa libre de riesgo\n",
    "freq, values = np.histogram(ret_msft-mu+r, bins=10000)\n",
    "\n",
    "prob = freq/np.sum(freq)"
   ]
  },
  {
   "cell_type": "code",
   "execution_count": 47,
   "metadata": {},
   "outputs": [],
   "source": [
    "# Datos de la opción y del día de actual\n",
    "today = pd.Timestamp(date.today())\n",
    "expiry = opcion.Expiry\n",
    "\n",
    "# Fechas desde el día de hoy hasta la fecha de cierre del contrato (considerando unicamente los días hábiles)\n",
    "dates = pd.date_range(start=today, end=expiry, freq='B')\n",
    "\n",
    "# Cantidad de escenarios a simular para el método de montecarlo\n",
    "ndays = len(dates)\n",
    "nscen = 10000\n",
    "\n",
    "K = opcion.Strike\n",
    "S0 = closes_msft.iloc[-1]\n",
    "\n",
    "ret = np.random.choice(values[1:], (ndays,nscen), p=prob)\n",
    "sim_ret_hist = pd.DataFrame(ret, index=dates)\n",
    "sim_closes_hist = S0*np.exp(sim_ret_hist.cumsum())"
   ]
  },
  {
   "cell_type": "code",
   "execution_count": 48,
   "metadata": {},
   "outputs": [
    {
     "data": {
      "image/png": "[encoded data removed]",
      "text/plain": [
       "<Figure size 432x288 with 1 Axes>"
      ]
     },
     "metadata": {
      "needs_background": "light"
     },
     "output_type": "display_data"
    }
   ],
   "source": [
    "strike = pd.DataFrame(K*np.ones([ndays,nscen]),index=dates)\n",
    "put_hist=pd.DataFrame({'Prima':np.exp(-r*ndays)*np.fmax(strike-sim_closes_hist,np.zeros([ndays,nscen])).T.mean()},index=dates)\n",
    "put_hist.plot();"
   ]
  },
  {
   "cell_type": "code",
   "execution_count": 49,
   "metadata": {},
   "outputs": [
    {
     "data": {
      "text/plain": [
       "Prima    2.657\n",
       "Name: 2021-06-18 00:00:00, dtype: float64"
      ]
     },
     "execution_count": 49,
     "metadata": {},
     "output_type": "execute_result"
    }
   ],
   "source": [
    "put_hist.iloc[-1]"
   ]
  },
  {
   "cell_type": "code",
   "execution_count": 50,
   "metadata": {},
   "outputs": [
    {
     "data": {
      "text/plain": [
       "2.27"
      ]
     },
     "execution_count": 50,
     "metadata": {},
     "output_type": "execute_result"
    }
   ],
   "source": [
    "opcion['JSON']['lastPrice']"
   ]
  },
  {
   "cell_type": "markdown",
   "metadata": {},
   "source": [
    "## Intervalos de confianza"
   ]
  },
  {
   "cell_type": "code",
   "execution_count": 51,
   "metadata": {},
   "outputs": [
    {
     "name": "stdout",
     "output_type": "stream",
     "text": [
      "(2.1584130880027392, 3.154973763072794)\n"
     ]
    }
   ],
   "source": [
    "confianza = 0.95\n",
    "sigma_est = sim_closes_hist.iloc[-1].sem()\n",
    "mean_est = put_hist.iloc[-1].Prima\n",
    "# i1 = st.t.interval(confianza,nscen-1, loc=mean_est, scale=sigma_est)\n",
    "i2 = st.norm.interval(confianza, loc=mean_est, scale=sigma_est)\n",
    "print(i2)"
   ]
  },
  {
   "cell_type": "markdown",
   "metadata": {},
   "source": [
    "## Valuación de una put como una barrera up and out"
   ]
  },
  {
   "cell_type": "markdown",
   "metadata": {},
   "source": [
    "> Como es un up la barrera debe estar por encima del spot price"
   ]
  },
  {
   "cell_type": "code",
   "execution_count": 52,
   "metadata": {},
   "outputs": [
    {
     "data": {
      "text/html": [
       "<div>\n",
       "<style scoped>\n",
       "    .dataframe tbody tr th:only-of-type {\n",
       "        vertical-align: middle;\n",
       "    }\n",
       "\n",
       "    .dataframe tbody tr th {\n",
       "        vertical-align: top;\n",
       "    }\n",
       "\n",
       "    .dataframe thead th {\n",
       "        text-align: right;\n",
       "    }\n",
       "</style>\n",
       "<table border=\"1\" class=\"dataframe\">\n",
       "  <thead>\n",
       "    <tr style=\"text-align: right;\">\n",
       "      <th></th>\n",
       "      <th>0</th>\n",
       "      <th>1</th>\n",
       "      <th>2</th>\n",
       "      <th>3</th>\n",
       "      <th>4</th>\n",
       "      <th>5</th>\n",
       "      <th>6</th>\n",
       "      <th>...</th>\n",
       "      <th>9993</th>\n",
       "      <th>9994</th>\n",
       "      <th>9995</th>\n",
       "      <th>9996</th>\n",
       "      <th>9997</th>\n",
       "      <th>9998</th>\n",
       "      <th>9999</th>\n",
       "    </tr>\n",
       "  </thead>\n",
       "  <tbody>\n",
       "    <tr>\n",
       "      <th>2021-05-06</th>\n",
       "      <td>True</td>\n",
       "      <td>True</td>\n",
       "      <td>True</td>\n",
       "      <td>True</td>\n",
       "      <td>True</td>\n",
       "      <td>True</td>\n",
       "      <td>True</td>\n",
       "      <td>...</td>\n",
       "      <td>True</td>\n",
       "      <td>True</td>\n",
       "      <td>True</td>\n",
       "      <td>True</td>\n",
       "      <td>True</td>\n",
       "      <td>True</td>\n",
       "      <td>True</td>\n",
       "    </tr>\n",
       "    <tr>\n",
       "      <th>2021-05-07</th>\n",
       "      <td>True</td>\n",
       "      <td>True</td>\n",
       "      <td>True</td>\n",
       "      <td>True</td>\n",
       "      <td>True</td>\n",
       "      <td>True</td>\n",
       "      <td>True</td>\n",
       "      <td>...</td>\n",
       "      <td>True</td>\n",
       "      <td>True</td>\n",
       "      <td>True</td>\n",
       "      <td>True</td>\n",
       "      <td>True</td>\n",
       "      <td>True</td>\n",
       "      <td>True</td>\n",
       "    </tr>\n",
       "    <tr>\n",
       "      <th>2021-05-10</th>\n",
       "      <td>True</td>\n",
       "      <td>True</td>\n",
       "      <td>True</td>\n",
       "      <td>True</td>\n",
       "      <td>False</td>\n",
       "      <td>True</td>\n",
       "      <td>True</td>\n",
       "      <td>...</td>\n",
       "      <td>True</td>\n",
       "      <td>True</td>\n",
       "      <td>True</td>\n",
       "      <td>True</td>\n",
       "      <td>True</td>\n",
       "      <td>True</td>\n",
       "      <td>True</td>\n",
       "    </tr>\n",
       "    <tr>\n",
       "      <th>2021-05-11</th>\n",
       "      <td>True</td>\n",
       "      <td>True</td>\n",
       "      <td>True</td>\n",
       "      <td>True</td>\n",
       "      <td>False</td>\n",
       "      <td>True</td>\n",
       "      <td>True</td>\n",
       "      <td>...</td>\n",
       "      <td>True</td>\n",
       "      <td>True</td>\n",
       "      <td>True</td>\n",
       "      <td>True</td>\n",
       "      <td>True</td>\n",
       "      <td>True</td>\n",
       "      <td>True</td>\n",
       "    </tr>\n",
       "    <tr>\n",
       "      <th>2021-05-12</th>\n",
       "      <td>True</td>\n",
       "      <td>True</td>\n",
       "      <td>True</td>\n",
       "      <td>True</td>\n",
       "      <td>False</td>\n",
       "      <td>True</td>\n",
       "      <td>True</td>\n",
       "      <td>...</td>\n",
       "      <td>True</td>\n",
       "      <td>True</td>\n",
       "      <td>True</td>\n",
       "      <td>True</td>\n",
       "      <td>True</td>\n",
       "      <td>True</td>\n",
       "      <td>True</td>\n",
       "    </tr>\n",
       "    <tr>\n",
       "      <th>...</th>\n",
       "      <td>...</td>\n",
       "      <td>...</td>\n",
       "      <td>...</td>\n",
       "      <td>...</td>\n",
       "      <td>...</td>\n",
       "      <td>...</td>\n",
       "      <td>...</td>\n",
       "      <td>...</td>\n",
       "      <td>...</td>\n",
       "      <td>...</td>\n",
       "      <td>...</td>\n",
       "      <td>...</td>\n",
       "      <td>...</td>\n",
       "      <td>...</td>\n",
       "      <td>...</td>\n",
       "    </tr>\n",
       "    <tr>\n",
       "      <th>2021-06-14</th>\n",
       "      <td>False</td>\n",
       "      <td>False</td>\n",
       "      <td>True</td>\n",
       "      <td>True</td>\n",
       "      <td>False</td>\n",
       "      <td>False</td>\n",
       "      <td>False</td>\n",
       "      <td>...</td>\n",
       "      <td>True</td>\n",
       "      <td>True</td>\n",
       "      <td>False</td>\n",
       "      <td>True</td>\n",
       "      <td>False</td>\n",
       "      <td>False</td>\n",
       "      <td>True</td>\n",
       "    </tr>\n",
       "    <tr>\n",
       "      <th>2021-06-15</th>\n",
       "      <td>False</td>\n",
       "      <td>False</td>\n",
       "      <td>True</td>\n",
       "      <td>True</td>\n",
       "      <td>False</td>\n",
       "      <td>False</td>\n",
       "      <td>False</td>\n",
       "      <td>...</td>\n",
       "      <td>True</td>\n",
       "      <td>True</td>\n",
       "      <td>False</td>\n",
       "      <td>True</td>\n",
       "      <td>False</td>\n",
       "      <td>False</td>\n",
       "      <td>True</td>\n",
       "    </tr>\n",
       "    <tr>\n",
       "      <th>2021-06-16</th>\n",
       "      <td>False</td>\n",
       "      <td>False</td>\n",
       "      <td>True</td>\n",
       "      <td>True</td>\n",
       "      <td>False</td>\n",
       "      <td>False</td>\n",
       "      <td>False</td>\n",
       "      <td>...</td>\n",
       "      <td>True</td>\n",
       "      <td>True</td>\n",
       "      <td>False</td>\n",
       "      <td>True</td>\n",
       "      <td>False</td>\n",
       "      <td>False</td>\n",
       "      <td>True</td>\n",
       "    </tr>\n",
       "    <tr>\n",
       "      <th>2021-06-17</th>\n",
       "      <td>False</td>\n",
       "      <td>False</td>\n",
       "      <td>True</td>\n",
       "      <td>True</td>\n",
       "      <td>False</td>\n",
       "      <td>False</td>\n",
       "      <td>False</td>\n",
       "      <td>...</td>\n",
       "      <td>True</td>\n",
       "      <td>True</td>\n",
       "      <td>False</td>\n",
       "      <td>True</td>\n",
       "      <td>False</td>\n",
       "      <td>False</td>\n",
       "      <td>True</td>\n",
       "    </tr>\n",
       "    <tr>\n",
       "      <th>2021-06-18</th>\n",
       "      <td>False</td>\n",
       "      <td>False</td>\n",
       "      <td>True</td>\n",
       "      <td>True</td>\n",
       "      <td>False</td>\n",
       "      <td>False</td>\n",
       "      <td>False</td>\n",
       "      <td>...</td>\n",
       "      <td>True</td>\n",
       "      <td>True</td>\n",
       "      <td>False</td>\n",
       "      <td>True</td>\n",
       "      <td>False</td>\n",
       "      <td>False</td>\n",
       "      <td>True</td>\n",
       "    </tr>\n",
       "  </tbody>\n",
       "</table>\n",
       "<p>32 rows × 10000 columns</p>\n",
       "</div>"
      ],
      "text/plain": [
       "             0      1     2     3      4      5      6     ...  9993  9994  \\\n",
       "2021-05-06   True   True  True  True   True   True   True  ...  True  True   \n",
       "2021-05-07   True   True  True  True   True   True   True  ...  True  True   \n",
       "2021-05-10   True   True  True  True  False   True   True  ...  True  True   \n",
       "2021-05-11   True   True  True  True  False   True   True  ...  True  True   \n",
       "2021-05-12   True   True  True  True  False   True   True  ...  True  True   \n",
       "...           ...    ...   ...   ...    ...    ...    ...  ...   ...   ...   \n",
       "2021-06-14  False  False  True  True  False  False  False  ...  True  True   \n",
       "2021-06-15  False  False  True  True  False  False  False  ...  True  True   \n",
       "2021-06-16  False  False  True  True  False  False  False  ...  True  True   \n",
       "2021-06-17  False  False  True  True  False  False  False  ...  True  True   \n",
       "2021-06-18  False  False  True  True  False  False  False  ...  True  True   \n",
       "\n",
       "             9995  9996   9997   9998  9999  \n",
       "2021-05-06   True  True   True   True  True  \n",
       "2021-05-07   True  True   True   True  True  \n",
       "2021-05-10   True  True   True   True  True  \n",
       "2021-05-11   True  True   True   True  True  \n",
       "2021-05-12   True  True   True   True  True  \n",
       "...           ...   ...    ...    ...   ...  \n",
       "2021-06-14  False  True  False  False  True  \n",
       "2021-06-15  False  True  False  False  True  \n",
       "2021-06-16  False  True  False  False  True  \n",
       "2021-06-17  False  True  False  False  True  \n",
       "2021-06-18  False  True  False  False  True  \n",
       "\n",
       "[32 rows x 10000 columns]"
      ]
     },
     "execution_count": 52,
     "metadata": {},
     "output_type": "execute_result"
    }
   ],
   "source": [
    "pd.set_option('display.max_columns',15)\n",
    "\n",
    "#Defino el precio de la barrera como\n",
    "\n",
    "B = 260\n",
    "\n",
    "# Función de desactivación knock out\n",
    "# Si en algún momento el precio toca la barrera la opción se desactiva\n",
    "I = (sim_closes < B).cumprod() > 0\n",
    "I"
   ]
  },
  {
   "cell_type": "markdown",
   "metadata": {},
   "source": [
    "## Valuación con rendimientos normales"
   ]
  },
  {
   "cell_type": "code",
   "execution_count": 53,
   "metadata": {},
   "outputs": [
    {
     "data": {
      "image/png": "[encoded data removed]",
      "text/plain": [
       "<Figure size 432x288 with 1 Axes>"
      ]
     },
     "metadata": {
      "needs_background": "light"
     },
     "output_type": "display_data"
    }
   ],
   "source": [
    "# Calcular la prima de una opción Europea\n",
    "put = pd.DataFrame({'Prima Europea':np.exp(-r*ndays)*np.fmax(strike-sim_closes, 0)\n",
    "                     .mean(axis=1)},index=dates)\n",
    "# Calcular la prima de una opción barrera\n",
    "putui = pd.DataFrame({'Prima down-and-out':np.exp(-r*ndays)*(I * np.fmax(strike-sim_closes, 0))\n",
    "                       .mean(axis=1)},index=dates)\n",
    "# Graficar el resultado de las dos primas previamente valuadas\n",
    "ax = putui.plot();\n",
    "put.plot(ax=ax);"
   ]
  },
  {
   "cell_type": "code",
   "execution_count": 54,
   "metadata": {},
   "outputs": [
    {
     "data": {
      "text/plain": [
       "Prima down-and-out    2.409\n",
       "Name: 2021-06-18 00:00:00, dtype: float64"
      ]
     },
     "execution_count": 54,
     "metadata": {},
     "output_type": "execute_result"
    }
   ],
   "source": [
    "putui.iloc[-1]"
   ]
  },
  {
   "cell_type": "code",
   "execution_count": 55,
   "metadata": {},
   "outputs": [
    {
     "data": {
      "text/plain": [
       "Prima Europea    2.728\n",
       "Name: 2021-06-18 00:00:00, dtype: float64"
      ]
     },
     "execution_count": 55,
     "metadata": {},
     "output_type": "execute_result"
    }
   ],
   "source": [
    "put.iloc[-1]"
   ]
  },
  {
   "cell_type": "markdown",
   "metadata": {},
   "source": [
    "## Valuación con el histograma"
   ]
  },
  {
   "cell_type": "code",
   "execution_count": 56,
   "metadata": {},
   "outputs": [],
   "source": [
    "# Centro mis datos en mi tasa libre de riesgo\n",
    "freq, values = np.histogram(ret_msft-mu+r, bins=10000)\n",
    "\n",
    "prob = freq/np.sum(freq)"
   ]
  },
  {
   "cell_type": "code",
   "execution_count": 57,
   "metadata": {},
   "outputs": [],
   "source": [
    "# Datos de la opción y del día de actual\n",
    "today = pd.Timestamp(date.today())\n",
    "expiry = opcion.Expiry\n",
    "\n",
    "# Fechas desde el día de hoy hasta la fecha de cierre del contrato (considerando unicamente los días hábiles)\n",
    "dates = pd.date_range(start=today, end=expiry, freq='B')\n",
    "\n",
    "# Cantidad de escenarios a simular para el método de montecarlo\n",
    "ndays = len(dates)\n",
    "nscen = 10000\n",
    "\n",
    "K = opcion.Strike\n",
    "S0 = closes_msft.iloc[-1]\n",
    "\n",
    "ret = np.random.choice(values[1:], (ndays,nscen), p=prob)\n",
    "sim_ret_hist = pd.DataFrame(ret, index=dates)\n",
    "sim_closes_hist = S0*np.exp(sim_ret_hist.cumsum())"
   ]
  },
  {
   "cell_type": "code",
   "execution_count": 58,
   "metadata": {},
   "outputs": [
    {
     "data": {
      "text/html": [
       "<div>\n",
       "<style scoped>\n",
       "    .dataframe tbody tr th:only-of-type {\n",
       "        vertical-align: middle;\n",
       "    }\n",
       "\n",
       "    .dataframe tbody tr th {\n",
       "        vertical-align: top;\n",
       "    }\n",
       "\n",
       "    .dataframe thead th {\n",
       "        text-align: right;\n",
       "    }\n",
       "</style>\n",
       "<table border=\"1\" class=\"dataframe\">\n",
       "  <thead>\n",
       "    <tr style=\"text-align: right;\">\n",
       "      <th></th>\n",
       "      <th>0</th>\n",
       "      <th>1</th>\n",
       "      <th>2</th>\n",
       "      <th>3</th>\n",
       "      <th>4</th>\n",
       "      <th>5</th>\n",
       "      <th>6</th>\n",
       "      <th>...</th>\n",
       "      <th>9993</th>\n",
       "      <th>9994</th>\n",
       "      <th>9995</th>\n",
       "      <th>9996</th>\n",
       "      <th>9997</th>\n",
       "      <th>9998</th>\n",
       "      <th>9999</th>\n",
       "    </tr>\n",
       "  </thead>\n",
       "  <tbody>\n",
       "    <tr>\n",
       "      <th>2021-05-06</th>\n",
       "      <td>True</td>\n",
       "      <td>True</td>\n",
       "      <td>True</td>\n",
       "      <td>True</td>\n",
       "      <td>True</td>\n",
       "      <td>True</td>\n",
       "      <td>True</td>\n",
       "      <td>...</td>\n",
       "      <td>True</td>\n",
       "      <td>True</td>\n",
       "      <td>True</td>\n",
       "      <td>True</td>\n",
       "      <td>True</td>\n",
       "      <td>True</td>\n",
       "      <td>True</td>\n",
       "    </tr>\n",
       "    <tr>\n",
       "      <th>2021-05-07</th>\n",
       "      <td>True</td>\n",
       "      <td>True</td>\n",
       "      <td>True</td>\n",
       "      <td>True</td>\n",
       "      <td>True</td>\n",
       "      <td>True</td>\n",
       "      <td>True</td>\n",
       "      <td>...</td>\n",
       "      <td>True</td>\n",
       "      <td>True</td>\n",
       "      <td>True</td>\n",
       "      <td>True</td>\n",
       "      <td>True</td>\n",
       "      <td>True</td>\n",
       "      <td>True</td>\n",
       "    </tr>\n",
       "    <tr>\n",
       "      <th>2021-05-10</th>\n",
       "      <td>True</td>\n",
       "      <td>True</td>\n",
       "      <td>True</td>\n",
       "      <td>True</td>\n",
       "      <td>True</td>\n",
       "      <td>True</td>\n",
       "      <td>True</td>\n",
       "      <td>...</td>\n",
       "      <td>True</td>\n",
       "      <td>True</td>\n",
       "      <td>True</td>\n",
       "      <td>True</td>\n",
       "      <td>True</td>\n",
       "      <td>True</td>\n",
       "      <td>True</td>\n",
       "    </tr>\n",
       "    <tr>\n",
       "      <th>2021-05-11</th>\n",
       "      <td>True</td>\n",
       "      <td>True</td>\n",
       "      <td>True</td>\n",
       "      <td>True</td>\n",
       "      <td>True</td>\n",
       "      <td>True</td>\n",
       "      <td>True</td>\n",
       "      <td>...</td>\n",
       "      <td>True</td>\n",
       "      <td>True</td>\n",
       "      <td>True</td>\n",
       "      <td>True</td>\n",
       "      <td>True</td>\n",
       "      <td>True</td>\n",
       "      <td>True</td>\n",
       "    </tr>\n",
       "    <tr>\n",
       "      <th>2021-05-12</th>\n",
       "      <td>True</td>\n",
       "      <td>True</td>\n",
       "      <td>True</td>\n",
       "      <td>True</td>\n",
       "      <td>True</td>\n",
       "      <td>True</td>\n",
       "      <td>True</td>\n",
       "      <td>...</td>\n",
       "      <td>True</td>\n",
       "      <td>True</td>\n",
       "      <td>True</td>\n",
       "      <td>True</td>\n",
       "      <td>True</td>\n",
       "      <td>True</td>\n",
       "      <td>True</td>\n",
       "    </tr>\n",
       "    <tr>\n",
       "      <th>...</th>\n",
       "      <td>...</td>\n",
       "      <td>...</td>\n",
       "      <td>...</td>\n",
       "      <td>...</td>\n",
       "      <td>...</td>\n",
       "      <td>...</td>\n",
       "      <td>...</td>\n",
       "      <td>...</td>\n",
       "      <td>...</td>\n",
       "      <td>...</td>\n",
       "      <td>...</td>\n",
       "      <td>...</td>\n",
       "      <td>...</td>\n",
       "      <td>...</td>\n",
       "      <td>...</td>\n",
       "    </tr>\n",
       "    <tr>\n",
       "      <th>2021-06-14</th>\n",
       "      <td>True</td>\n",
       "      <td>True</td>\n",
       "      <td>True</td>\n",
       "      <td>False</td>\n",
       "      <td>True</td>\n",
       "      <td>True</td>\n",
       "      <td>True</td>\n",
       "      <td>...</td>\n",
       "      <td>True</td>\n",
       "      <td>True</td>\n",
       "      <td>True</td>\n",
       "      <td>True</td>\n",
       "      <td>False</td>\n",
       "      <td>False</td>\n",
       "      <td>True</td>\n",
       "    </tr>\n",
       "    <tr>\n",
       "      <th>2021-06-15</th>\n",
       "      <td>True</td>\n",
       "      <td>True</td>\n",
       "      <td>True</td>\n",
       "      <td>False</td>\n",
       "      <td>True</td>\n",
       "      <td>True</td>\n",
       "      <td>True</td>\n",
       "      <td>...</td>\n",
       "      <td>True</td>\n",
       "      <td>True</td>\n",
       "      <td>True</td>\n",
       "      <td>True</td>\n",
       "      <td>False</td>\n",
       "      <td>False</td>\n",
       "      <td>True</td>\n",
       "    </tr>\n",
       "    <tr>\n",
       "      <th>2021-06-16</th>\n",
       "      <td>True</td>\n",
       "      <td>True</td>\n",
       "      <td>True</td>\n",
       "      <td>False</td>\n",
       "      <td>True</td>\n",
       "      <td>True</td>\n",
       "      <td>True</td>\n",
       "      <td>...</td>\n",
       "      <td>True</td>\n",
       "      <td>True</td>\n",
       "      <td>True</td>\n",
       "      <td>True</td>\n",
       "      <td>False</td>\n",
       "      <td>False</td>\n",
       "      <td>True</td>\n",
       "    </tr>\n",
       "    <tr>\n",
       "      <th>2021-06-17</th>\n",
       "      <td>True</td>\n",
       "      <td>True</td>\n",
       "      <td>True</td>\n",
       "      <td>False</td>\n",
       "      <td>True</td>\n",
       "      <td>True</td>\n",
       "      <td>True</td>\n",
       "      <td>...</td>\n",
       "      <td>True</td>\n",
       "      <td>True</td>\n",
       "      <td>True</td>\n",
       "      <td>True</td>\n",
       "      <td>False</td>\n",
       "      <td>False</td>\n",
       "      <td>True</td>\n",
       "    </tr>\n",
       "    <tr>\n",
       "      <th>2021-06-18</th>\n",
       "      <td>True</td>\n",
       "      <td>True</td>\n",
       "      <td>True</td>\n",
       "      <td>False</td>\n",
       "      <td>True</td>\n",
       "      <td>True</td>\n",
       "      <td>True</td>\n",
       "      <td>...</td>\n",
       "      <td>True</td>\n",
       "      <td>True</td>\n",
       "      <td>True</td>\n",
       "      <td>True</td>\n",
       "      <td>False</td>\n",
       "      <td>False</td>\n",
       "      <td>True</td>\n",
       "    </tr>\n",
       "  </tbody>\n",
       "</table>\n",
       "<p>32 rows × 10000 columns</p>\n",
       "</div>"
      ],
      "text/plain": [
       "            0     1     2      3     4     5     6     ...  9993  9994  \\\n",
       "2021-05-06  True  True  True   True  True  True  True  ...  True  True   \n",
       "2021-05-07  True  True  True   True  True  True  True  ...  True  True   \n",
       "2021-05-10  True  True  True   True  True  True  True  ...  True  True   \n",
       "2021-05-11  True  True  True   True  True  True  True  ...  True  True   \n",
       "2021-05-12  True  True  True   True  True  True  True  ...  True  True   \n",
       "...          ...   ...   ...    ...   ...   ...   ...  ...   ...   ...   \n",
       "2021-06-14  True  True  True  False  True  True  True  ...  True  True   \n",
       "2021-06-15  True  True  True  False  True  True  True  ...  True  True   \n",
       "2021-06-16  True  True  True  False  True  True  True  ...  True  True   \n",
       "2021-06-17  True  True  True  False  True  True  True  ...  True  True   \n",
       "2021-06-18  True  True  True  False  True  True  True  ...  True  True   \n",
       "\n",
       "            9995  9996   9997   9998  9999  \n",
       "2021-05-06  True  True   True   True  True  \n",
       "2021-05-07  True  True   True   True  True  \n",
       "2021-05-10  True  True   True   True  True  \n",
       "2021-05-11  True  True   True   True  True  \n",
       "2021-05-12  True  True   True   True  True  \n",
       "...          ...   ...    ...    ...   ...  \n",
       "2021-06-14  True  True  False  False  True  \n",
       "2021-06-15  True  True  False  False  True  \n",
       "2021-06-16  True  True  False  False  True  \n",
       "2021-06-17  True  True  False  False  True  \n",
       "2021-06-18  True  True  False  False  True  \n",
       "\n",
       "[32 rows x 10000 columns]"
      ]
     },
     "execution_count": 58,
     "metadata": {},
     "output_type": "execute_result"
    }
   ],
   "source": [
    "pd.set_option('display.max_columns',15)\n",
    "\n",
    "#Defino el precio de la barrera como\n",
    "\n",
    "B = 260\n",
    "\n",
    "# Función de desactivación knock out\n",
    "# Si en algún momento el precio toca la barrera la opción se desactiva\n",
    "I = (sim_closes_hist < B).cumprod() > 0\n",
    "I"
   ]
  },
  {
   "cell_type": "code",
   "execution_count": 59,
   "metadata": {},
   "outputs": [
    {
     "data": {
      "image/png": "[encoded data removed]",
      "text/plain": [
       "<Figure size 432x288 with 1 Axes>"
      ]
     },
     "metadata": {
      "needs_background": "light"
     },
     "output_type": "display_data"
    }
   ],
   "source": [
    "# Calcular la prima de una opción Europea\n",
    "put = pd.DataFrame({'Prima Europea':np.exp(-r*ndays)*np.fmax(strike-sim_closes_hist, 0)\n",
    "                     .mean(axis=1)},index=dates)\n",
    "# Calcular la prima de una opción barrera\n",
    "putui = pd.DataFrame({'Prima down-and-out':np.exp(-r*ndays)*(I * np.fmax(strike-sim_closes_hist, 0))\n",
    "                       .mean(axis=1)},index=dates)\n",
    "# Graficar el resultado de las dos primas previamente valuadas\n",
    "ax = putui.plot();\n",
    "put.plot(ax=ax);"
   ]
  },
  {
   "cell_type": "code",
   "execution_count": 60,
   "metadata": {},
   "outputs": [
    {
     "data": {
      "text/plain": [
       "Prima down-and-out    2.325\n",
       "Name: 2021-06-18 00:00:00, dtype: float64"
      ]
     },
     "execution_count": 60,
     "metadata": {},
     "output_type": "execute_result"
    }
   ],
   "source": [
    "putui.iloc[-1]"
   ]
  },
  {
   "cell_type": "code",
   "execution_count": 61,
   "metadata": {},
   "outputs": [
    {
     "data": {
      "text/plain": [
       "Prima Europea    2.609\n",
       "Name: 2021-06-18 00:00:00, dtype: float64"
      ]
     },
     "execution_count": 61,
     "metadata": {},
     "output_type": "execute_result"
    }
   ],
   "source": [
    "put.iloc[-1]"
   ]
  },
  {
   "cell_type": "code",
   "execution_count": 62,
   "metadata": {},
   "outputs": [
    {
     "data": {
      "text/plain": [
       "2.27"
      ]
     },
     "execution_count": 62,
     "metadata": {},
     "output_type": "execute_result"
    }
   ],
   "source": [
    "opcion['JSON']['lastPrice']"
   ]
  },
  {
   "cell_type": "markdown",
   "metadata": {},
   "source": [
    "## Análisis"
   ]
  },
  {
   "cell_type": "markdown",
   "metadata": {},
   "source": [
    "Primeramnete podemos observar que el valor de las primas europeas en contraste con el valor real tuvieron cierto nivel de error sobre todo la call la cual tenía un last price de $V = 4.75$. Mientrás que la valuación como call Europea fue de $call = 8.502$ por el método del histogram mientrás que por el método de los rendimientos normales fue de $call = 8.149$ por lo que este último método fue más preciso, sin embargo, el put se aproximo mejor de tener un last price de $V = 2.27$ y la valuación de put Europea fue de $put = 2.608$ por el método del histograma y por el método de los rendimientos normales fue de $put = 2.703$ por lo tanto el método de los rendimientos normales fue más preciso.\n",
    "\n",
    "En cuanto a la valuación del put up and out se logro obtener una valoración menor a la europea el cual fue de $up/out=2.353$ por el método del histograma y $up/out=2.38$ por el método de rendimientos normales. En este caso se estableció una barrera en 260, mientrás que el spot price es de 249.51 y el strike price de k =230 (utilizando la sonrisa de volatilidad para definirlo). Esto nos podría dar el derecho a vender (siempre y cuando no toquemos la barrera) a $S_t=260$ esperando que el precio del activo pueda bajar ya que desde una perspectiva fundamentalista esta sobrevalorado y ante el riesgo de alsas en la tasa de interés los activos de alto rendimiento como el nuestro podrían sufir una correción a la baja.\n",
    "\n",
    "Referente a la valuación call down and out se logro obtener una menor valuación $down/out = 7.328$ por el método del historgama y de $down/out = 6.652$ por el método de los rendimientos normales en contraste a la europea. Se estableció una barrera en $S_t=240$, pensando en que nuestro activo pueda continuar apreciandose mientrás las tasas de interés sigan bajas y la tendencia bullish del mercado continue defino un strike price $k =255$ (utilizando la sonrisa de volatilidad para definirlo).\n",
    "\n",
    "En conclusión las opciones barrera ofrecen una gran alternativa a las europeas ya que salimos beneficiados en cuestión de costos, no obstante, se debe definir muy bien la estrategia a utilizar ya que en donde decidamos ubicar la barrera resultara fundamental para poder ejercer nuestra opción por lo que un estudio detallado del comportamiento del subyacente se debería realizar previamente. \n",
    "\n",
    "Finalmente con respecto a los métodos de aproximación me llamo la atención que para las opciones europeas asumir el método de rendimientos normales obtuvo mejores aproximaciones, mientrás que por el otro lado, las aproximaciones de las opciones barreras u _opciones_ exoticas tuvieron mejores aproximaciones con el método del histograma. En el caso de las europeas esto podría deberse a que en el método de rendimientos normales utilizamos la solución a la ecuación de B&S, ecuación que ofrece una solución cerrada para opciones europeas. En el caso de las opciones barrera al ser _exoticas_ y no tener una solución cerrada como B&S se utilizan otros metodos numericos para aproximar su valor como en este caso el del hsitograma.\n"
   ]
  },
  {
   "cell_type": "code",
   "execution_count": null,
   "metadata": {},
   "outputs": [],
   "source": []
  }
 ],
 "metadata": {
  "kernelspec": {
   "display_name": "Python 3",
   "language": "python",
   "name": "python3"
  },
  "language_info": {
   "codemirror_mode": {
    "name": "ipython",
    "version": 3
   },
   "file_extension": ".py",
   "mimetype": "text/x-python",
   "name": "python",
   "nbconvert_exporter": "python",
   "pygments_lexer": "ipython3",
   "version": "3.8.5"
  }
 },
 "nbformat": 4,
 "nbformat_minor": 2
}
